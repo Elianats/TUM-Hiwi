{
 "cells": [
  {
   "cell_type": "code",
   "execution_count": 7,
   "id": "feb5fc32",
   "metadata": {},
   "outputs": [],
   "source": [
    "# Data Manipulation\n",
    "import numpy as np\n",
    "import pandas as pd\n",
    "\n",
    "# Plotting graphs\n",
    "import matplotlib.pyplot as plt\n",
    "import talib as ta\n",
    "\n",
    "# Machine learning\n",
    "from sklearn.linear_model import LogisticRegression\n",
    "from sklearn import metrics\n",
    "from sklearn.model_selection import cross_val_score"
   ]
  },
  {
   "cell_type": "code",
   "execution_count": 5,
   "id": "b9b89082",
   "metadata": {},
   "outputs": [
    {
     "data": {
      "text/html": [
       "<div>\n",
       "<style scoped>\n",
       "    .dataframe tbody tr th:only-of-type {\n",
       "        vertical-align: middle;\n",
       "    }\n",
       "\n",
       "    .dataframe tbody tr th {\n",
       "        vertical-align: top;\n",
       "    }\n",
       "\n",
       "    .dataframe thead th {\n",
       "        text-align: right;\n",
       "    }\n",
       "</style>\n",
       "<table border=\"1\" class=\"dataframe\">\n",
       "  <thead>\n",
       "    <tr style=\"text-align: right;\">\n",
       "      <th></th>\n",
       "      <th>Open</th>\n",
       "      <th>High</th>\n",
       "      <th>Low</th>\n",
       "      <th>Close</th>\n",
       "    </tr>\n",
       "    <tr>\n",
       "      <th>Date</th>\n",
       "      <th></th>\n",
       "      <th></th>\n",
       "      <th></th>\n",
       "      <th></th>\n",
       "    </tr>\n",
       "  </thead>\n",
       "  <tbody>\n",
       "    <tr>\n",
       "      <th>21-Jul-22</th>\n",
       "      <td>5.87</td>\n",
       "      <td>6.53</td>\n",
       "      <td>5.67</td>\n",
       "      <td>6.41</td>\n",
       "    </tr>\n",
       "    <tr>\n",
       "      <th>20-Jul-22</th>\n",
       "      <td>6.08</td>\n",
       "      <td>6.48</td>\n",
       "      <td>5.82</td>\n",
       "      <td>5.88</td>\n",
       "    </tr>\n",
       "    <tr>\n",
       "      <th>19-Jul-22</th>\n",
       "      <td>5.99</td>\n",
       "      <td>6.32</td>\n",
       "      <td>5.65</td>\n",
       "      <td>6.08</td>\n",
       "    </tr>\n",
       "    <tr>\n",
       "      <th>18-Jul-22</th>\n",
       "      <td>4.97</td>\n",
       "      <td>6.21</td>\n",
       "      <td>4.97</td>\n",
       "      <td>5.99</td>\n",
       "    </tr>\n",
       "    <tr>\n",
       "      <th>17-Jul-22</th>\n",
       "      <td>4.76</td>\n",
       "      <td>5.15</td>\n",
       "      <td>4.65</td>\n",
       "      <td>4.97</td>\n",
       "    </tr>\n",
       "  </tbody>\n",
       "</table>\n",
       "</div>"
      ],
      "text/plain": [
       "           Open  High   Low  Close\n",
       "Date                              \n",
       "21-Jul-22  5.87  6.53  5.67   6.41\n",
       "20-Jul-22  6.08  6.48  5.82   5.88\n",
       "19-Jul-22  5.99  6.32  5.65   6.08\n",
       "18-Jul-22  4.97  6.21  4.97   5.99\n",
       "17-Jul-22  4.76  5.15  4.65   4.97"
      ]
     },
     "execution_count": 5,
     "metadata": {},
     "output_type": "execute_result"
    }
   ],
   "source": [
    "df = pd.read_csv(\"ApeCoin.csv\")\n",
    "df = df.set_index('Date')\n",
    "df = df.dropna()\n",
    "df = df.iloc[:,:4]\n",
    "df.head()"
   ]
  },
  {
   "cell_type": "code",
   "execution_count": 8,
   "id": "706f18f0",
   "metadata": {},
   "outputs": [],
   "source": [
    "df['S_10'] = df['Close'].rolling(window=10).mean()\n",
    "df['Corr'] = df['Close'].rolling(window=10).corr(df['S_10'])\n",
    "df['RSI'] = ta.RSI(np.array(df['Close']), timeperiod =10)\n",
    "df['Open-Close'] = df['Open'] - df['Close'].shift(1)\n",
    "df['Open-Open'] = df['Open'] - df['Open'].shift(1)\n",
    "df = df.dropna()\n",
    "X = df.iloc[:,:9]"
   ]
  },
  {
   "cell_type": "code",
   "execution_count": 9,
   "id": "e9dd6e73",
   "metadata": {},
   "outputs": [],
   "source": [
    "y = np.where(df['Close'].shift(-1) > df['Close'],1,-1)"
   ]
  },
  {
   "cell_type": "code",
   "execution_count": 10,
   "id": "7f7fd835",
   "metadata": {},
   "outputs": [],
   "source": [
    "split = int(0.7*len(df))\n",
    "X_train, X_test, y_train, y_test = X[:split], X[split:], y[:split], y[split:]"
   ]
  },
  {
   "cell_type": "code",
   "execution_count": 11,
   "id": "54a8bd0d",
   "metadata": {},
   "outputs": [],
   "source": [
    "model = LogisticRegression()\n",
    "model = model.fit (X_train,y_train)"
   ]
  },
  {
   "cell_type": "code",
   "execution_count": 12,
   "id": "60425c9c",
   "metadata": {},
   "outputs": [
    {
     "data": {
      "text/html": [
       "<div>\n",
       "<style scoped>\n",
       "    .dataframe tbody tr th:only-of-type {\n",
       "        vertical-align: middle;\n",
       "    }\n",
       "\n",
       "    .dataframe tbody tr th {\n",
       "        vertical-align: top;\n",
       "    }\n",
       "\n",
       "    .dataframe thead th {\n",
       "        text-align: right;\n",
       "    }\n",
       "</style>\n",
       "<table border=\"1\" class=\"dataframe\">\n",
       "  <thead>\n",
       "    <tr style=\"text-align: right;\">\n",
       "      <th></th>\n",
       "      <th>0</th>\n",
       "      <th>1</th>\n",
       "    </tr>\n",
       "  </thead>\n",
       "  <tbody>\n",
       "    <tr>\n",
       "      <th>0</th>\n",
       "      <td>Open</td>\n",
       "      <td>[1.5063713371549432]</td>\n",
       "    </tr>\n",
       "    <tr>\n",
       "      <th>1</th>\n",
       "      <td>High</td>\n",
       "      <td>[-0.2772404637173073]</td>\n",
       "    </tr>\n",
       "    <tr>\n",
       "      <th>2</th>\n",
       "      <td>Low</td>\n",
       "      <td>[0.023694727512942177]</td>\n",
       "    </tr>\n",
       "    <tr>\n",
       "      <th>3</th>\n",
       "      <td>Close</td>\n",
       "      <td>[-1.0245183101240445]</td>\n",
       "    </tr>\n",
       "    <tr>\n",
       "      <th>4</th>\n",
       "      <td>S_10</td>\n",
       "      <td>[-0.3348485812401068]</td>\n",
       "    </tr>\n",
       "    <tr>\n",
       "      <th>5</th>\n",
       "      <td>Corr</td>\n",
       "      <td>[0.3037929934897231]</td>\n",
       "    </tr>\n",
       "    <tr>\n",
       "      <th>6</th>\n",
       "      <td>RSI</td>\n",
       "      <td>[-0.025133904338796247]</td>\n",
       "    </tr>\n",
       "    <tr>\n",
       "      <th>7</th>\n",
       "      <td>Open-Close</td>\n",
       "      <td>[1.0879160248573154]</td>\n",
       "    </tr>\n",
       "    <tr>\n",
       "      <th>8</th>\n",
       "      <td>Open-Open</td>\n",
       "      <td>[2.4689830757797173]</td>\n",
       "    </tr>\n",
       "  </tbody>\n",
       "</table>\n",
       "</div>"
      ],
      "text/plain": [
       "            0                        1\n",
       "0        Open     [1.5063713371549432]\n",
       "1        High    [-0.2772404637173073]\n",
       "2         Low   [0.023694727512942177]\n",
       "3       Close    [-1.0245183101240445]\n",
       "4        S_10    [-0.3348485812401068]\n",
       "5        Corr     [0.3037929934897231]\n",
       "6         RSI  [-0.025133904338796247]\n",
       "7  Open-Close     [1.0879160248573154]\n",
       "8   Open-Open     [2.4689830757797173]"
      ]
     },
     "execution_count": 12,
     "metadata": {},
     "output_type": "execute_result"
    }
   ],
   "source": [
    "pd.DataFrame(zip(X.columns, np.transpose(model.coef_)))"
   ]
  },
  {
   "cell_type": "code",
   "execution_count": 14,
   "id": "f2ae2596",
   "metadata": {},
   "outputs": [
    {
     "data": {
      "text/plain": [
       "array([[9.99999241e-01, 7.58704799e-07],\n",
       "       [9.88595129e-01, 1.14048708e-02],\n",
       "       [9.13719013e-01, 8.62809875e-02],\n",
       "       [2.89153932e-01, 7.10846068e-01],\n",
       "       [6.19659221e-01, 3.80340779e-01],\n",
       "       [2.87417312e-02, 9.71258269e-01],\n",
       "       [9.99728109e-01, 2.71891271e-04],\n",
       "       [9.98590687e-01, 1.40931308e-03],\n",
       "       [1.56247733e-02, 9.84375227e-01],\n",
       "       [9.95915130e-01, 4.08487001e-03],\n",
       "       [9.64265512e-01, 3.57344877e-02],\n",
       "       [3.13196704e-01, 6.86803296e-01],\n",
       "       [9.57850662e-01, 4.21493378e-02],\n",
       "       [4.44274083e-02, 9.55572592e-01],\n",
       "       [1.48508747e-01, 8.51491253e-01],\n",
       "       [1.24101364e-01, 8.75898636e-01],\n",
       "       [6.53081414e-01, 3.46918586e-01],\n",
       "       [3.47190928e-01, 6.52809072e-01],\n",
       "       [7.72324832e-01, 2.27675168e-01],\n",
       "       [3.17868921e-03, 9.96821311e-01],\n",
       "       [8.79007398e-01, 1.20992602e-01],\n",
       "       [3.88236089e-01, 6.11763911e-01],\n",
       "       [3.88018073e-01, 6.11981927e-01],\n",
       "       [9.43931929e-01, 5.60680706e-02],\n",
       "       [9.99873097e-01, 1.26903199e-04],\n",
       "       [6.54041340e-01, 3.45958660e-01],\n",
       "       [2.24581134e-01, 7.75418866e-01],\n",
       "       [9.98315261e-01, 1.68473872e-03],\n",
       "       [9.99989138e-01, 1.08616533e-05],\n",
       "       [9.99742141e-01, 2.57859500e-04],\n",
       "       [7.64643819e-04, 9.99235356e-01],\n",
       "       [6.52261252e-04, 9.99347739e-01],\n",
       "       [1.00000000e+00, 6.85546413e-11]])"
      ]
     },
     "execution_count": 14,
     "metadata": {},
     "output_type": "execute_result"
    }
   ],
   "source": [
    "probability = model.predict_proba(X_test)\n",
    "probability"
   ]
  },
  {
   "cell_type": "code",
   "execution_count": 15,
   "id": "dfe20426",
   "metadata": {},
   "outputs": [
    {
     "name": "stdout",
     "output_type": "stream",
     "text": [
      "[[9.99999241e-01 7.58704799e-07]\n",
      " [9.88595129e-01 1.14048708e-02]\n",
      " [9.13719013e-01 8.62809875e-02]\n",
      " [2.89153932e-01 7.10846068e-01]\n",
      " [6.19659221e-01 3.80340779e-01]\n",
      " [2.87417312e-02 9.71258269e-01]\n",
      " [9.99728109e-01 2.71891271e-04]\n",
      " [9.98590687e-01 1.40931308e-03]\n",
      " [1.56247733e-02 9.84375227e-01]\n",
      " [9.95915130e-01 4.08487001e-03]\n",
      " [9.64265512e-01 3.57344877e-02]\n",
      " [3.13196704e-01 6.86803296e-01]\n",
      " [9.57850662e-01 4.21493378e-02]\n",
      " [4.44274083e-02 9.55572592e-01]\n",
      " [1.48508747e-01 8.51491253e-01]\n",
      " [1.24101364e-01 8.75898636e-01]\n",
      " [6.53081414e-01 3.46918586e-01]\n",
      " [3.47190928e-01 6.52809072e-01]\n",
      " [7.72324832e-01 2.27675168e-01]\n",
      " [3.17868921e-03 9.96821311e-01]\n",
      " [8.79007398e-01 1.20992602e-01]\n",
      " [3.88236089e-01 6.11763911e-01]\n",
      " [3.88018073e-01 6.11981927e-01]\n",
      " [9.43931929e-01 5.60680706e-02]\n",
      " [9.99873097e-01 1.26903199e-04]\n",
      " [6.54041340e-01 3.45958660e-01]\n",
      " [2.24581134e-01 7.75418866e-01]\n",
      " [9.98315261e-01 1.68473872e-03]\n",
      " [9.99989138e-01 1.08616533e-05]\n",
      " [9.99742141e-01 2.57859500e-04]\n",
      " [7.64643819e-04 9.99235356e-01]\n",
      " [6.52261252e-04 9.99347739e-01]\n",
      " [1.00000000e+00 6.85546413e-11]]\n"
     ]
    }
   ],
   "source": [
    "probability = model.predict_proba(X_test)\n",
    "print(probability)\n",
    "\n",
    "predicted = model.predict(X_test)"
   ]
  },
  {
   "cell_type": "code",
   "execution_count": 20,
   "id": "d4f1f8a2",
   "metadata": {},
   "outputs": [
    {
     "ename": "SyntaxError",
     "evalue": "invalid syntax (3191775924.py, line 1)",
     "output_type": "error",
     "traceback": [
      "\u001b[0;36m  Input \u001b[0;32mIn [20]\u001b[0;36m\u001b[0m\n\u001b[0;31m    df.prediction = probability[1 if i >0.5 else 0 for i in probability]\u001b[0m\n\u001b[0m                                                   ^\u001b[0m\n\u001b[0;31mSyntaxError\u001b[0m\u001b[0;31m:\u001b[0m invalid syntax\n"
     ]
    }
   ],
   "source": [
    "df.prediction = probability[1 if i >0.5 else 0 for i in probability]"
   ]
  }
 ],
 "metadata": {
  "kernelspec": {
   "display_name": "Python 3 (ipykernel)",
   "language": "python",
   "name": "python3"
  },
  "language_info": {
   "codemirror_mode": {
    "name": "ipython",
    "version": 3
   },
   "file_extension": ".py",
   "mimetype": "text/x-python",
   "name": "python",
   "nbconvert_exporter": "python",
   "pygments_lexer": "ipython3",
   "version": "3.10.4"
  }
 },
 "nbformat": 4,
 "nbformat_minor": 5
}

{
 "cells": [
  {
   "cell_type": "code",
   "execution_count": 188,
   "metadata": {},
   "outputs": [],
   "source": [
    "import pandas as pd\n",
    "from pandas import ExcelWriter, ExcelFile\n",
    "import numpy as np\n",
    "from matplotlib import pyplot as plt\n",
    "import matplotlib.cm as cm\n",
    "from scipy.cluster.hierarchy import dendrogram\n",
    "from sklearn.datasets import load_iris\n",
    "\n",
    "from sklearn.preprocessing import OneHotEncoder\n",
    "from sklearn.cluster import AgglomerativeClustering\n",
    "\n",
    "import scipy.cluster.hierarchy as shc\n",
    "\n",
    "from sklearn.preprocessing import StandardScaler\n",
    "from sklearn.decomposition import PCA\n",
    "from sklearn.decomposition import IncrementalPCA\n",
    "from sklearn.neighbors import NearestNeighbors\n",
    "from sklearn.cluster import KMeans\n",
    "from sklearn.metrics import silhouette_score, silhouette_samples, davies_bouldin_score\n",
    "from random import sample\n",
    "from numpy.random import uniform\n",
    "from math import isnan\n",
    "\n",
    "from yellowbrick.cluster import KElbowVisualizer"
   ]
  },
  {
   "cell_type": "code",
   "execution_count": 189,
   "metadata": {
    "scrolled": false
   },
   "outputs": [
    {
     "name": "stderr",
     "output_type": "stream",
     "text": [
      "/opt/anaconda3/lib/python3.9/site-packages/openpyxl/worksheet/_reader.py:312: UserWarning: Data Validation extension is not supported and will be removed\n",
      "  warn(msg)\n"
     ]
    }
   ],
   "source": [
    "# TODO: sheet_name change\n",
    "original_df= pd.read_excel('newdata.xlsx', sheet_name='TAXONOMY DATA')"
   ]
  },
  {
   "cell_type": "code",
   "execution_count": 190,
   "metadata": {
    "scrolled": false
   },
   "outputs": [],
   "source": [
    "datasize = 72\n",
    "df = original_df.iloc[1:]\n",
    "df.columns = df.iloc[0]\n",
    "df = df.drop(df.index[0])\n",
    "df = df.iloc[:datasize]\n",
    "df = df.iloc[:, 2:22]"
   ]
  },
  {
   "cell_type": "code",
   "execution_count": 191,
   "metadata": {},
   "outputs": [],
   "source": [
    "X = df.copy()\n",
    "from sklearn.preprocessing import LabelEncoder\n",
    "\n",
    "X.iloc[:]=X.iloc[:].apply(LabelEncoder().fit_transform)"
   ]
  },
  {
   "cell_type": "code",
   "execution_count": 192,
   "metadata": {},
   "outputs": [],
   "source": [
    "encoder = OneHotEncoder(handle_unknown='ignore')\n",
    "encoder_df = pd.DataFrame(encoder.fit_transform(df).toarray())"
   ]
  },
  {
   "cell_type": "code",
   "execution_count": 193,
   "metadata": {},
   "outputs": [],
   "source": [
    "import numpy as np\n",
    "from sklearn.metrics.pairwise import euclidean_distances\n",
    "\n",
    "def delta(c1, c2):\n",
    "    values = np.ones([len(c1), len(c2)])*10000\n",
    "    \n",
    "    for i in range(0, len(c1)):\n",
    "        for j in range(0, len(c2)):\n",
    "            values[i, j] = np.linalg.norm(c1[i]-c2[j])\n",
    "            \n",
    "    return np.min(values)\n",
    "    \n",
    "def big_delta(ci):\n",
    "    values = np.zeros([len(ci), len(ci)])\n",
    "    \n",
    "    for i in range(0, len(ci)):\n",
    "        for j in range(0, len(ci)):\n",
    "            values[i, j] = np.linalg.norm(ci[i]-ci[j])\n",
    "            \n",
    "    return np.max(values)\n",
    "    \n",
    "def dunn(k_list):\n",
    "    deltas = np.ones([len(k_list), len(k_list)])*1000000\n",
    "    big_deltas = np.zeros([len(k_list), 1])\n",
    "    l_range = list(range(0, len(k_list)))\n",
    "    \n",
    "    for k in l_range:\n",
    "        for l in (l_range[0:k]+l_range[k+1:]):\n",
    "            deltas[k, l] = delta(k_list[k], k_list[l])\n",
    "        \n",
    "        big_deltas[k] = big_delta(k_list[k])\n",
    "\n",
    "    di = np.min(deltas)/np.max(big_deltas)\n",
    "    return di\n",
    "\n",
    "def delta_fast(c1, c2, distances):\n",
    "    values = distances[np.where(c1)][:, np.where(c2)]\n",
    "    values = values[np.nonzero(values)]\n",
    "\n",
    "    return np.min(values)\n",
    "    \n",
    "def big_delta_fast(ci, distances):\n",
    "    values = distances[np.where(ci)][:, np.where(ci)]\n",
    "    #values = values[np.nonzero(values)]\n",
    "            \n",
    "    return np.max(values)\n",
    "\n",
    "def dunn_fast(points, labels):\n",
    "    distances = euclidean_distances(points)\n",
    "    ks = np.sort(np.unique(labels))\n",
    "    \n",
    "    deltas = np.ones([len(ks), len(ks)])*1000000\n",
    "    big_deltas = np.zeros([len(ks), 1])\n",
    "    \n",
    "    l_range = list(range(0, len(ks)))\n",
    "    \n",
    "    for k in l_range:\n",
    "        for l in (l_range[0:k]+l_range[k+1:]):\n",
    "            deltas[k, l] = delta_fast((labels == ks[k]), (labels == ks[l]), distances)\n",
    "        \n",
    "        big_deltas[k] = big_delta_fast((labels == ks[k]), distances)\n",
    "\n",
    "    di = np.min(deltas)/np.max(big_deltas)\n",
    "    return di\n",
    "    \n",
    "    \n",
    "def  big_s(x, center):\n",
    "    len_x = len(x)\n",
    "    total = 0\n",
    "        \n",
    "    for i in range(len_x):\n",
    "        total += np.linalg.norm(x[i]-center)    \n",
    "    \n",
    "    return total/len_x\n",
    "\n",
    "def davisbouldin(k_list, k_centers):\n",
    "    len_k_list = len(k_list)\n",
    "    big_ss = np.zeros([len_k_list], dtype=np.float64)\n",
    "    d_eucs = np.zeros([len_k_list, len_k_list], dtype=np.float64)\n",
    "    db = 0    \n",
    "\n",
    "    for k in range(len_k_list):\n",
    "        big_ss[k] = big_s(k_list[k], k_centers[k])\n",
    "\n",
    "    for k in range(len_k_list):\n",
    "        for l in range(0, len_k_list):\n",
    "            d_eucs[k, l] = np.linalg.norm(k_centers[k]-k_centers[l])\n",
    "\n",
    "    for k in range(len_k_list):\n",
    "        values = np.zeros([len_k_list-1], dtype=np.float64)\n",
    "        for l in range(0, k):\n",
    "            values[l] = (big_ss[k] + big_ss[l])/d_eucs[k, l]\n",
    "        for l in range(k+1, len_k_list):\n",
    "            values[l-1] = (big_ss[k] + big_ss[l])/d_eucs[k, l]\n",
    "\n",
    "        db += np.max(values)\n",
    "    res = db/len_k_list\n",
    "    return "
   ]
  },
  {
   "cell_type": "code",
   "execution_count": 194,
   "metadata": {},
   "outputs": [],
   "source": [
    "cluster_size = 2\n",
    "pca = PCA(n_components=5)\n",
    "pca.fit(encoder_df)\n",
    "pca_samples = pca.transform(encoder_df)\n",
    "ps = pd.DataFrame(pca_samples)"
   ]
  },
  {
   "cell_type": "code",
   "execution_count": 195,
   "metadata": {},
   "outputs": [],
   "source": [
    "kmeans = KMeans(n_clusters=cluster_size, random_state=42)\n",
    "cluster_kmeans = kmeans.fit_predict(ps)"
   ]
  },
  {
   "cell_type": "code",
   "execution_count": 196,
   "metadata": {},
   "outputs": [],
   "source": [
    "agglomerative_clustering = AgglomerativeClustering(n_clusters=cluster_size, linkage='ward').fit(ps)"
   ]
  },
  {
   "cell_type": "code",
   "execution_count": 197,
   "metadata": {},
   "outputs": [],
   "source": [
    "prediction = X.copy()\n",
    "\n",
    "prediction = pd.concat([ps,pd.DataFrame(cluster_kmeans, columns=['pred'])], axis = 1)\n",
    "prediction[\"pred\"] = prediction.pred.astype('category')\n",
    "prediction = prediction.dropna()"
   ]
  },
  {
   "cell_type": "code",
   "execution_count": 198,
   "metadata": {},
   "outputs": [],
   "source": [
    "clus0 = prediction.loc[prediction.pred == 0]\n",
    "clus1 = prediction.loc[prediction.pred == 1]\n",
    " \n",
    "k_list = [clus0.values, clus1.values]\n",
    "k_Cluster_2 = dunn(k_list)"
   ]
  },
  {
   "cell_type": "code",
   "execution_count": 199,
   "metadata": {},
   "outputs": [],
   "source": [
    "prediction = X.copy()\n",
    "\n",
    "prediction = pd.concat([ps,pd.DataFrame(agglomerative_clustering.labels_, columns=['pred'])], axis = 1)\n",
    "prediction[\"pred\"] = prediction.pred.astype('category')\n",
    "prediction = prediction.dropna()"
   ]
  },
  {
   "cell_type": "code",
   "execution_count": 200,
   "metadata": {},
   "outputs": [],
   "source": [
    "clus0 = prediction.loc[prediction.pred == 0]\n",
    "clus1 = prediction.loc[prediction.pred == 1]\n",
    " \n",
    "a_list = [clus0.values, clus1.values]\n",
    "a_Cluster_2 = dunn(a_list)"
   ]
  },
  {
   "cell_type": "code",
   "execution_count": 201,
   "metadata": {},
   "outputs": [
    {
     "name": "stdout",
     "output_type": "stream",
     "text": [
      "0.25870933248520733 0.2966534000883905\n"
     ]
    }
   ],
   "source": [
    "print(k_Cluster_2,a_Cluster_2)"
   ]
  },
  {
   "cell_type": "code",
   "execution_count": 202,
   "metadata": {},
   "outputs": [],
   "source": [
    "cluster_size = 3\n",
    "pca = PCA(n_components=5)\n",
    "pca.fit(encoder_df)\n",
    "pca_samples = pca.transform(encoder_df)\n",
    "ps = pd.DataFrame(pca_samples)"
   ]
  },
  {
   "cell_type": "code",
   "execution_count": 203,
   "metadata": {},
   "outputs": [],
   "source": [
    "kmeans = KMeans(n_clusters=cluster_size, random_state=42)\n",
    "cluster_kmeans = kmeans.fit_predict(ps)"
   ]
  },
  {
   "cell_type": "code",
   "execution_count": 204,
   "metadata": {},
   "outputs": [],
   "source": [
    "agglomerative_clustering = AgglomerativeClustering(n_clusters=cluster_size, linkage='ward').fit(ps)"
   ]
  },
  {
   "cell_type": "code",
   "execution_count": 205,
   "metadata": {},
   "outputs": [],
   "source": [
    "prediction = X.copy()\n",
    "\n",
    "prediction = pd.concat([ps,pd.DataFrame(cluster_kmeans, columns=['pred'])], axis = 1)\n",
    "prediction[\"pred\"] = prediction.pred.astype('category')\n",
    "prediction = prediction.dropna()"
   ]
  },
  {
   "cell_type": "code",
   "execution_count": 206,
   "metadata": {},
   "outputs": [],
   "source": [
    "clus0 = prediction.loc[prediction.pred == 0]\n",
    "clus1 = prediction.loc[prediction.pred == 1]\n",
    "clus2 = prediction.loc[prediction.pred == 2]\n",
    "\n",
    "k_list = [clus0.values, clus1.values, clus2.values]\n",
    "k_Cluster_3 = dunn(k_list)"
   ]
  },
  {
   "cell_type": "code",
   "execution_count": 207,
   "metadata": {},
   "outputs": [],
   "source": [
    "prediction = X.copy()\n",
    "\n",
    "prediction = pd.concat([ps,pd.DataFrame(agglomerative_clustering.labels_, columns=['pred'])], axis = 1)\n",
    "prediction[\"pred\"] = prediction.pred.astype('category')\n",
    "prediction = prediction.dropna()"
   ]
  },
  {
   "cell_type": "code",
   "execution_count": 208,
   "metadata": {},
   "outputs": [],
   "source": [
    "clus0 = prediction.loc[prediction.pred == 0]\n",
    "clus1 = prediction.loc[prediction.pred == 1]\n",
    "clus2 = prediction.loc[prediction.pred == 2]\n",
    "\n",
    "a_list = [clus0.values, clus1.values, clus2.values]\n",
    "a_Cluster_3 = dunn(a_list)"
   ]
  },
  {
   "cell_type": "code",
   "execution_count": 209,
   "metadata": {},
   "outputs": [
    {
     "name": "stdout",
     "output_type": "stream",
     "text": [
      "0.26813039720295667 0.3149556431496282\n"
     ]
    }
   ],
   "source": [
    "print(k_Cluster_3,a_Cluster_3)"
   ]
  },
  {
   "cell_type": "code",
   "execution_count": 210,
   "metadata": {},
   "outputs": [],
   "source": [
    "cluster_size = 4\n",
    "pca = PCA(n_components=5)\n",
    "pca.fit(encoder_df)\n",
    "pca_samples = pca.transform(encoder_df)\n",
    "ps = pd.DataFrame(pca_samples)"
   ]
  },
  {
   "cell_type": "code",
   "execution_count": 211,
   "metadata": {},
   "outputs": [],
   "source": [
    "kmeans = KMeans(n_clusters=cluster_size, random_state=42)\n",
    "cluster_kmeans = kmeans.fit_predict(ps)\n",
    "agglomerative_clustering = AgglomerativeClustering(n_clusters=cluster_size, linkage='ward').fit(ps)"
   ]
  },
  {
   "cell_type": "code",
   "execution_count": 212,
   "metadata": {},
   "outputs": [],
   "source": [
    "prediction = X.copy()\n",
    "\n",
    "prediction = pd.concat([ps,pd.DataFrame(cluster_kmeans, columns=['pred'])], axis = 1)\n",
    "prediction[\"pred\"] = prediction.pred.astype('category')\n",
    "prediction = prediction.dropna()"
   ]
  },
  {
   "cell_type": "code",
   "execution_count": 213,
   "metadata": {},
   "outputs": [],
   "source": [
    "clus0 = prediction.loc[prediction.pred == 0]\n",
    "clus1 = prediction.loc[prediction.pred == 1]\n",
    "clus2 = prediction.loc[prediction.pred == 2]\n",
    "clus3 = prediction.loc[prediction.pred == 3]  \n",
    " \n",
    "k_list = [clus0.values, clus1.values,clus2.values,clus3.values]\n",
    "k_Cluster_4 = dunn(k_list)"
   ]
  },
  {
   "cell_type": "code",
   "execution_count": 214,
   "metadata": {},
   "outputs": [],
   "source": [
    "prediction = X.copy()\n",
    "\n",
    "prediction = pd.concat([ps,pd.DataFrame(agglomerative_clustering.labels_, columns=['pred'])], axis = 1)\n",
    "prediction[\"pred\"] = prediction.pred.astype('category')\n",
    "prediction = prediction.dropna()"
   ]
  },
  {
   "cell_type": "code",
   "execution_count": 215,
   "metadata": {},
   "outputs": [],
   "source": [
    "clus0 = prediction.loc[prediction.pred == 0]\n",
    "clus1 = prediction.loc[prediction.pred == 1]\n",
    "clus2 = prediction.loc[prediction.pred == 2]\n",
    "clus3 = prediction.loc[prediction.pred == 3]  \n",
    "\n",
    "a_list = [clus0.values, clus1.values,clus2.values,clus3.values]\n",
    "a_Cluster_4 = dunn(a_list)"
   ]
  },
  {
   "cell_type": "code",
   "execution_count": 216,
   "metadata": {},
   "outputs": [
    {
     "name": "stdout",
     "output_type": "stream",
     "text": [
      "0.3179503147537684 0.33911537590743585\n"
     ]
    }
   ],
   "source": [
    "print(k_Cluster_4,a_Cluster_4)"
   ]
  },
  {
   "cell_type": "code",
   "execution_count": 217,
   "metadata": {},
   "outputs": [],
   "source": [
    "cluster_size = 5\n",
    "pca = PCA(n_components=5)\n",
    "pca.fit(encoder_df)\n",
    "pca_samples = pca.transform(encoder_df)\n",
    "ps = pd.DataFrame(pca_samples)"
   ]
  },
  {
   "cell_type": "code",
   "execution_count": 218,
   "metadata": {},
   "outputs": [],
   "source": [
    "kmeans = KMeans(n_clusters=cluster_size, random_state=42)\n",
    "cluster_kmeans = kmeans.fit_predict(ps)"
   ]
  },
  {
   "cell_type": "code",
   "execution_count": 219,
   "metadata": {},
   "outputs": [],
   "source": [
    "agglomerative_clustering = AgglomerativeClustering(n_clusters=cluster_size, linkage='ward').fit(ps)"
   ]
  },
  {
   "cell_type": "code",
   "execution_count": 220,
   "metadata": {},
   "outputs": [],
   "source": [
    "prediction = X.copy()\n",
    "\n",
    "prediction = pd.concat([ps,pd.DataFrame(cluster_kmeans, columns=['pred'])], axis = 1)\n",
    "prediction[\"pred\"] = prediction.pred.astype('category')\n",
    "prediction = prediction.dropna()"
   ]
  },
  {
   "cell_type": "code",
   "execution_count": 221,
   "metadata": {},
   "outputs": [],
   "source": [
    "clus0 = prediction.loc[prediction.pred == 0]\n",
    "clus1 = prediction.loc[prediction.pred == 1]\n",
    "clus2 = prediction.loc[prediction.pred == 2]\n",
    "clus3 = prediction.loc[prediction.pred == 3]  \n",
    "clus4 = prediction.loc[prediction.pred == 4]  \n",
    "k_list = [clus0.values, clus1.values,clus2.values,clus3.values,clus4.values]\n",
    "k_Cluster_5 = dunn(k_list)"
   ]
  },
  {
   "cell_type": "code",
   "execution_count": 222,
   "metadata": {},
   "outputs": [],
   "source": [
    "prediction = X.copy()\n",
    "\n",
    "prediction = pd.concat([ps,pd.DataFrame(agglomerative_clustering.labels_, columns=['pred'])], axis = 1)\n",
    "prediction[\"pred\"] = prediction.pred.astype('category')\n",
    "prediction = prediction.dropna()"
   ]
  },
  {
   "cell_type": "code",
   "execution_count": 223,
   "metadata": {},
   "outputs": [],
   "source": [
    "clus0 = prediction.loc[prediction.pred == 0]\n",
    "clus1 = prediction.loc[prediction.pred == 1]\n",
    "clus2 = prediction.loc[prediction.pred == 2]\n",
    "clus3 = prediction.loc[prediction.pred == 3]  \n",
    "clus4 = prediction.loc[prediction.pred == 4]  \n",
    "a_list = [clus0.values, clus1.values,clus2.values,clus3.values,clus4.values]\n",
    "a_Cluster_5 = dunn(a_list)"
   ]
  },
  {
   "cell_type": "code",
   "execution_count": 224,
   "metadata": {},
   "outputs": [
    {
     "name": "stdout",
     "output_type": "stream",
     "text": [
      "0.3187042369409263 0.3494681278325547\n"
     ]
    }
   ],
   "source": [
    "print(k_Cluster_5,a_Cluster_5)"
   ]
  },
  {
   "cell_type": "code",
   "execution_count": 225,
   "metadata": {},
   "outputs": [],
   "source": [
    "cluster_size = 6\n",
    "pca = PCA(n_components=5)\n",
    "pca.fit(encoder_df)\n",
    "pca_samples = pca.transform(encoder_df)\n",
    "ps = pd.DataFrame(pca_samples)"
   ]
  },
  {
   "cell_type": "code",
   "execution_count": 226,
   "metadata": {},
   "outputs": [],
   "source": [
    "kmeans = KMeans(n_clusters=cluster_size, random_state=42)\n",
    "cluster_kmeans = kmeans.fit_predict(ps)\n",
    "agglomerative_clustering = AgglomerativeClustering(n_clusters=cluster_size, linkage='ward').fit(ps)"
   ]
  },
  {
   "cell_type": "code",
   "execution_count": 227,
   "metadata": {},
   "outputs": [],
   "source": [
    "prediction = X.copy()\n",
    "\n",
    "prediction = pd.concat([ps,pd.DataFrame(cluster_kmeans, columns=['pred'])], axis = 1)\n",
    "prediction[\"pred\"] = prediction.pred.astype('category')\n",
    "prediction = prediction.dropna()"
   ]
  },
  {
   "cell_type": "code",
   "execution_count": 228,
   "metadata": {},
   "outputs": [],
   "source": [
    "clus0 = prediction.loc[prediction.pred == 0]\n",
    "clus1 = prediction.loc[prediction.pred == 1]\n",
    "clus2 = prediction.loc[prediction.pred == 2]\n",
    "clus3 = prediction.loc[prediction.pred == 3]  \n",
    "clus4 = prediction.loc[prediction.pred == 4]  \n",
    "clus5 = prediction.loc[prediction.pred == 5] \n",
    "k_list = [clus0.values, clus1.values,clus2.values,clus3.values,clus4.values,clus5.values]\n",
    "k_Cluster_6 = dunn(k_list)"
   ]
  },
  {
   "cell_type": "code",
   "execution_count": 229,
   "metadata": {},
   "outputs": [],
   "source": [
    "prediction = X.copy()\n",
    "\n",
    "prediction = pd.concat([ps,pd.DataFrame(agglomerative_clustering.labels_, columns=['pred'])], axis = 1)\n",
    "prediction[\"pred\"] = prediction.pred.astype('category')\n",
    "prediction = prediction.dropna()"
   ]
  },
  {
   "cell_type": "code",
   "execution_count": 230,
   "metadata": {},
   "outputs": [],
   "source": [
    "clus0 = prediction.loc[prediction.pred == 0]\n",
    "clus1 = prediction.loc[prediction.pred == 1]\n",
    "clus2 = prediction.loc[prediction.pred == 2]\n",
    "clus3 = prediction.loc[prediction.pred == 3]  \n",
    "clus4 = prediction.loc[prediction.pred == 4]  \n",
    "clus5 = prediction.loc[prediction.pred == 5] \n",
    "a_list = [clus0.values, clus1.values,clus2.values,clus3.values,clus4.values,clus5.values]\n",
    "a_Cluster_6 = dunn(a_list)"
   ]
  },
  {
   "cell_type": "code",
   "execution_count": 231,
   "metadata": {},
   "outputs": [
    {
     "name": "stdout",
     "output_type": "stream",
     "text": [
      "0.36666261242967924 0.3748277894093769\n"
     ]
    }
   ],
   "source": [
    "print(k_Cluster_6,a_Cluster_6)"
   ]
  },
  {
   "cell_type": "code",
   "execution_count": 232,
   "metadata": {},
   "outputs": [],
   "source": [
    "cluster_size = 7\n",
    "pca = PCA(n_components=5)\n",
    "pca.fit(encoder_df)\n",
    "pca_samples = pca.transform(encoder_df)\n",
    "ps = pd.DataFrame(pca_samples)"
   ]
  },
  {
   "cell_type": "code",
   "execution_count": 233,
   "metadata": {},
   "outputs": [],
   "source": [
    "kmeans = KMeans(n_clusters=cluster_size, random_state=42)\n",
    "cluster_kmeans = kmeans.fit_predict(ps)\n",
    "agglomerative_clustering = AgglomerativeClustering(n_clusters=cluster_size, linkage='ward').fit(ps)"
   ]
  },
  {
   "cell_type": "code",
   "execution_count": 234,
   "metadata": {},
   "outputs": [],
   "source": [
    "prediction = X.copy()\n",
    "\n",
    "prediction = pd.concat([ps,pd.DataFrame(cluster_kmeans, columns=['pred'])], axis = 1)\n",
    "prediction[\"pred\"] = prediction.pred.astype('category')\n",
    "prediction = prediction.dropna()"
   ]
  },
  {
   "cell_type": "code",
   "execution_count": 235,
   "metadata": {},
   "outputs": [],
   "source": [
    "clus0 = prediction.loc[prediction.pred == 0]\n",
    "clus1 = prediction.loc[prediction.pred == 1]\n",
    "clus2 = prediction.loc[prediction.pred == 2]\n",
    "clus3 = prediction.loc[prediction.pred == 3]  \n",
    "clus4 = prediction.loc[prediction.pred == 4]  \n",
    "clus5 = prediction.loc[prediction.pred == 5]\n",
    "clus6 = prediction.loc[prediction.pred == 6]\n",
    "k_list = [clus0.values, clus1.values,clus2.values,clus3.values,clus4.values,clus5.values,clus6.values]\n",
    "k_Cluster_7 = dunn(k_list)"
   ]
  },
  {
   "cell_type": "code",
   "execution_count": 236,
   "metadata": {},
   "outputs": [],
   "source": [
    "prediction = X.copy()\n",
    "\n",
    "prediction = pd.concat([ps,pd.DataFrame(agglomerative_clustering.labels_, columns=['pred'])], axis = 1)\n",
    "prediction[\"pred\"] = prediction.pred.astype('category')\n",
    "prediction = prediction.dropna()"
   ]
  },
  {
   "cell_type": "code",
   "execution_count": 237,
   "metadata": {},
   "outputs": [],
   "source": [
    "clus0 = prediction.loc[prediction.pred == 0]\n",
    "clus1 = prediction.loc[prediction.pred == 1]\n",
    "clus2 = prediction.loc[prediction.pred == 2]\n",
    "clus3 = prediction.loc[prediction.pred == 3]  \n",
    "clus4 = prediction.loc[prediction.pred == 4]  \n",
    "clus5 = prediction.loc[prediction.pred == 5] \n",
    "clus6 = prediction.loc[prediction.pred == 6]\n",
    "a_list = [clus0.values, clus1.values,clus2.values,clus3.values,clus4.values,clus5.values,clus6.values]\n",
    "a_Cluster_7 = dunn(a_list)"
   ]
  },
  {
   "cell_type": "code",
   "execution_count": 238,
   "metadata": {},
   "outputs": [
    {
     "name": "stdout",
     "output_type": "stream",
     "text": [
      "0.34676008218645943 0.3748277894093769\n"
     ]
    }
   ],
   "source": [
    "print(k_Cluster_7,a_Cluster_7)"
   ]
  },
  {
   "cell_type": "code",
   "execution_count": 239,
   "metadata": {},
   "outputs": [],
   "source": [
    "cluster_size = 8\n",
    "pca = PCA(n_components=5)\n",
    "pca.fit(encoder_df)\n",
    "pca_samples = pca.transform(encoder_df)\n",
    "ps = pd.DataFrame(pca_samples)"
   ]
  },
  {
   "cell_type": "code",
   "execution_count": 240,
   "metadata": {},
   "outputs": [],
   "source": [
    "kmeans = KMeans(n_clusters=cluster_size, random_state=42)\n",
    "cluster_kmeans = kmeans.fit_predict(ps)\n",
    "agglomerative_clustering = AgglomerativeClustering(n_clusters=cluster_size, linkage='ward').fit(ps)"
   ]
  },
  {
   "cell_type": "code",
   "execution_count": 241,
   "metadata": {},
   "outputs": [],
   "source": [
    "prediction = X.copy()\n",
    "\n",
    "prediction = pd.concat([ps,pd.DataFrame(cluster_kmeans, columns=['pred'])], axis = 1)\n",
    "prediction[\"pred\"] = prediction.pred.astype('category')\n",
    "prediction = prediction.dropna()"
   ]
  },
  {
   "cell_type": "code",
   "execution_count": 242,
   "metadata": {},
   "outputs": [],
   "source": [
    "clus0 = prediction.loc[prediction.pred == 0]\n",
    "clus1 = prediction.loc[prediction.pred == 1]\n",
    "clus2 = prediction.loc[prediction.pred == 2]\n",
    "clus3 = prediction.loc[prediction.pred == 3]  \n",
    "clus4 = prediction.loc[prediction.pred == 4]  \n",
    "clus5 = prediction.loc[prediction.pred == 5]\n",
    "clus6 = prediction.loc[prediction.pred == 6]\n",
    "clus7 = prediction.loc[prediction.pred == 7]\n",
    "k_list = [clus0.values, clus1.values,clus2.values,clus3.values,clus4.values,clus5.values,clus6.values,clus7.values]\n",
    "k_Cluster_8 = dunn(k_list)"
   ]
  },
  {
   "cell_type": "code",
   "execution_count": 243,
   "metadata": {},
   "outputs": [],
   "source": [
    "prediction = X.copy()\n",
    "\n",
    "prediction = pd.concat([ps,pd.DataFrame(agglomerative_clustering.labels_, columns=['pred'])], axis = 1)\n",
    "prediction[\"pred\"] = prediction.pred.astype('category')\n",
    "prediction = prediction.dropna()"
   ]
  },
  {
   "cell_type": "code",
   "execution_count": 244,
   "metadata": {},
   "outputs": [],
   "source": [
    "clus0 = prediction.loc[prediction.pred == 0]\n",
    "clus1 = prediction.loc[prediction.pred == 1]\n",
    "clus2 = prediction.loc[prediction.pred == 2]\n",
    "clus3 = prediction.loc[prediction.pred == 3]  \n",
    "clus4 = prediction.loc[prediction.pred == 4]  \n",
    "clus5 = prediction.loc[prediction.pred == 5] \n",
    "clus6 = prediction.loc[prediction.pred == 6]\n",
    "clus7 = prediction.loc[prediction.pred == 7]\n",
    "a_list = [clus0.values, clus1.values,clus2.values,clus3.values,clus4.values,clus5.values,clus6.values,clus7.values]\n",
    "a_Cluster_8 = dunn(a_list)"
   ]
  },
  {
   "cell_type": "code",
   "execution_count": 245,
   "metadata": {},
   "outputs": [
    {
     "name": "stdout",
     "output_type": "stream",
     "text": [
      "0.4118771037102598 0.42133522682169783\n"
     ]
    }
   ],
   "source": [
    "print(k_Cluster_8,a_Cluster_8)"
   ]
  },
  {
   "cell_type": "code",
   "execution_count": 246,
   "metadata": {},
   "outputs": [],
   "source": [
    "cluster_size = 9\n",
    "pca = PCA(n_components=5)\n",
    "pca.fit(encoder_df)\n",
    "pca_samples = pca.transform(encoder_df)\n",
    "ps = pd.DataFrame(pca_samples)"
   ]
  },
  {
   "cell_type": "code",
   "execution_count": 247,
   "metadata": {},
   "outputs": [],
   "source": [
    "kmeans = KMeans(n_clusters=cluster_size, random_state=42)\n",
    "cluster_kmeans = kmeans.fit_predict(ps)\n",
    "agglomerative_clustering = AgglomerativeClustering(n_clusters=cluster_size, linkage='ward').fit(ps)"
   ]
  },
  {
   "cell_type": "code",
   "execution_count": 248,
   "metadata": {},
   "outputs": [],
   "source": [
    "prediction = X.copy()\n",
    "\n",
    "prediction = pd.concat([ps,pd.DataFrame(cluster_kmeans, columns=['pred'])], axis = 1)\n",
    "prediction[\"pred\"] = prediction.pred.astype('category')\n",
    "prediction = prediction.dropna()"
   ]
  },
  {
   "cell_type": "code",
   "execution_count": 249,
   "metadata": {},
   "outputs": [],
   "source": [
    "clus0 = prediction.loc[prediction.pred == 0]\n",
    "clus1 = prediction.loc[prediction.pred == 1]\n",
    "clus2 = prediction.loc[prediction.pred == 2]\n",
    "clus3 = prediction.loc[prediction.pred == 3]  \n",
    "clus4 = prediction.loc[prediction.pred == 4]  \n",
    "clus5 = prediction.loc[prediction.pred == 5]\n",
    "clus6 = prediction.loc[prediction.pred == 6]\n",
    "clus7 = prediction.loc[prediction.pred == 7]\n",
    "clus8 = prediction.loc[prediction.pred == 8]\n",
    "k_list = [clus0.values, clus1.values,clus2.values,clus3.values,clus4.values,clus5.values,clus6.values,clus7.values,clus8.values]\n",
    "k_Cluster_9 = dunn(k_list)"
   ]
  },
  {
   "cell_type": "code",
   "execution_count": 250,
   "metadata": {},
   "outputs": [],
   "source": [
    "prediction = X.copy()\n",
    "\n",
    "prediction = pd.concat([ps,pd.DataFrame(agglomerative_clustering.labels_, columns=['pred'])], axis = 1)\n",
    "prediction[\"pred\"] = prediction.pred.astype('category')\n",
    "prediction = prediction.dropna()"
   ]
  },
  {
   "cell_type": "code",
   "execution_count": 251,
   "metadata": {},
   "outputs": [],
   "source": [
    "clus0 = prediction.loc[prediction.pred == 0]\n",
    "clus1 = prediction.loc[prediction.pred == 1]\n",
    "clus2 = prediction.loc[prediction.pred == 2]\n",
    "clus3 = prediction.loc[prediction.pred == 3]  \n",
    "clus4 = prediction.loc[prediction.pred == 4]  \n",
    "clus5 = prediction.loc[prediction.pred == 5] \n",
    "clus6 = prediction.loc[prediction.pred == 6]\n",
    "clus7 = prediction.loc[prediction.pred == 7]\n",
    "clus8 = prediction.loc[prediction.pred == 8]\n",
    "a_list = [clus0.values, clus1.values,clus2.values,clus3.values,clus4.values,clus5.values,clus6.values,clus7.values,clus8.values]\n",
    "a_Cluster_9 = dunn(a_list)"
   ]
  },
  {
   "cell_type": "code",
   "execution_count": 252,
   "metadata": {},
   "outputs": [
    {
     "name": "stdout",
     "output_type": "stream",
     "text": [
      "0.3848109220835296 0.36753532257156196\n"
     ]
    }
   ],
   "source": [
    "print(k_Cluster_9,a_Cluster_9)"
   ]
  },
  {
   "cell_type": "code",
   "execution_count": 253,
   "metadata": {},
   "outputs": [],
   "source": [
    "cluster_size = 10\n",
    "pca = PCA(n_components=5)\n",
    "pca.fit(encoder_df)\n",
    "pca_samples = pca.transform(encoder_df)\n",
    "ps = pd.DataFrame(pca_samples)\n",
    "kmeans = KMeans(n_clusters=cluster_size, random_state=42)\n",
    "cluster_kmeans = kmeans.fit_predict(ps)\n",
    "agglomerative_clustering = AgglomerativeClustering(n_clusters=cluster_size, linkage='ward').fit(ps)\n",
    "\n",
    "prediction = X.copy()\n",
    "\n",
    "prediction = pd.concat([ps,pd.DataFrame(cluster_kmeans, columns=['pred'])], axis = 1)\n",
    "prediction[\"pred\"] = prediction.pred.astype('category')\n",
    "prediction = prediction.dropna()\n",
    "clus0 = prediction.loc[prediction.pred == 0]\n",
    "clus1 = prediction.loc[prediction.pred == 1]\n",
    "clus2 = prediction.loc[prediction.pred == 2]\n",
    "clus3 = prediction.loc[prediction.pred == 3]  \n",
    "clus4 = prediction.loc[prediction.pred == 4]  \n",
    "clus5 = prediction.loc[prediction.pred == 5]\n",
    "clus6 = prediction.loc[prediction.pred == 6]\n",
    "clus7 = prediction.loc[prediction.pred == 7]\n",
    "clus8 = prediction.loc[prediction.pred == 8]\n",
    "clus9 = prediction.loc[prediction.pred == 9]\n",
    "k_list = [clus0.values, clus1.values,clus2.values,clus3.values,clus4.values,clus5.values,clus6.values,clus7.values,clus8.values\n",
    "         ,clus9.values]\n",
    "k_Cluster_10 = dunn(k_list)"
   ]
  },
  {
   "cell_type": "code",
   "execution_count": 254,
   "metadata": {},
   "outputs": [
    {
     "name": "stdout",
     "output_type": "stream",
     "text": [
      "0.4262891335333421 0.38152050003002946\n"
     ]
    }
   ],
   "source": [
    "prediction = X.copy()\n",
    "\n",
    "prediction = pd.concat([ps,pd.DataFrame(agglomerative_clustering.labels_, columns=['pred'])], axis = 1)\n",
    "prediction[\"pred\"] = prediction.pred.astype('category')\n",
    "prediction = prediction.dropna()\n",
    "clus0 = prediction.loc[prediction.pred == 0]\n",
    "clus1 = prediction.loc[prediction.pred == 1]\n",
    "clus2 = prediction.loc[prediction.pred == 2]\n",
    "clus3 = prediction.loc[prediction.pred == 3]  \n",
    "clus4 = prediction.loc[prediction.pred == 4]  \n",
    "clus5 = prediction.loc[prediction.pred == 5] \n",
    "clus6 = prediction.loc[prediction.pred == 6]\n",
    "clus7 = prediction.loc[prediction.pred == 7]\n",
    "clus8 = prediction.loc[prediction.pred == 8]\n",
    "clus9 = prediction.loc[prediction.pred == 9]\n",
    "a_list = [clus0.values, clus1.values,clus2.values,clus3.values,clus4.values,clus5.values,clus6.values,clus7.values,clus8.values\n",
    "         ,clus9.values]\n",
    "a_Cluster_10 = dunn(a_list)\n",
    "print(k_Cluster_10,a_Cluster_10)"
   ]
  },
  {
   "cell_type": "code",
   "execution_count": 255,
   "metadata": {},
   "outputs": [],
   "source": [
    "cluster_size = 11\n",
    "pca = PCA(n_components=5)\n",
    "pca.fit(encoder_df)\n",
    "pca_samples = pca.transform(encoder_df)\n",
    "ps = pd.DataFrame(pca_samples)\n",
    "kmeans = KMeans(n_clusters=cluster_size, random_state=42)\n",
    "cluster_kmeans = kmeans.fit_predict(ps)\n",
    "agglomerative_clustering = AgglomerativeClustering(n_clusters=cluster_size, linkage='ward').fit(ps)\n",
    "\n",
    "prediction = X.copy()\n",
    "\n",
    "prediction = pd.concat([ps,pd.DataFrame(cluster_kmeans, columns=['pred'])], axis = 1)\n",
    "prediction[\"pred\"] = prediction.pred.astype('category')\n",
    "prediction = prediction.dropna()\n",
    "clus0 = prediction.loc[prediction.pred == 0]\n",
    "clus1 = prediction.loc[prediction.pred == 1]\n",
    "clus2 = prediction.loc[prediction.pred == 2]\n",
    "clus3 = prediction.loc[prediction.pred == 3]  \n",
    "clus4 = prediction.loc[prediction.pred == 4]  \n",
    "clus5 = prediction.loc[prediction.pred == 5]\n",
    "clus6 = prediction.loc[prediction.pred == 6]\n",
    "clus7 = prediction.loc[prediction.pred == 7]\n",
    "clus8 = prediction.loc[prediction.pred == 8]\n",
    "clus9 = prediction.loc[prediction.pred == 9]\n",
    "clus10 = prediction.loc[prediction.pred == 10]\n",
    "k_list = [clus0.values, clus1.values,clus2.values,clus3.values,clus4.values,clus5.values,clus6.values,clus7.values,clus8.values\n",
    "         ,clus9.values,clus10.values]\n",
    "k_Cluster_11 = dunn(k_list)"
   ]
  },
  {
   "cell_type": "code",
   "execution_count": 256,
   "metadata": {},
   "outputs": [
    {
     "name": "stdout",
     "output_type": "stream",
     "text": [
      "0.5507406744914735 0.588347090646328\n"
     ]
    }
   ],
   "source": [
    "prediction = X.copy()\n",
    "\n",
    "prediction = pd.concat([ps,pd.DataFrame(agglomerative_clustering.labels_, columns=['pred'])], axis = 1)\n",
    "prediction[\"pred\"] = prediction.pred.astype('category')\n",
    "prediction = prediction.dropna()\n",
    "clus0 = prediction.loc[prediction.pred == 0]\n",
    "clus1 = prediction.loc[prediction.pred == 1]\n",
    "clus2 = prediction.loc[prediction.pred == 2]\n",
    "clus3 = prediction.loc[prediction.pred == 3]  \n",
    "clus4 = prediction.loc[prediction.pred == 4]  \n",
    "clus5 = prediction.loc[prediction.pred == 5]\n",
    "clus6 = prediction.loc[prediction.pred == 6]\n",
    "clus7 = prediction.loc[prediction.pred == 7]\n",
    "clus8 = prediction.loc[prediction.pred == 8]\n",
    "clus9 = prediction.loc[prediction.pred == 9]\n",
    "clus10 = prediction.loc[prediction.pred == 10]\n",
    "a_list = [clus0.values, clus1.values,clus2.values,clus3.values,clus4.values,clus5.values,clus6.values,clus7.values,clus8.values\n",
    "         ,clus9.values,clus10.values]\n",
    "a_Cluster_11 = dunn(a_list)\n",
    "print(k_Cluster_11,a_Cluster_11)"
   ]
  },
  {
   "cell_type": "code",
   "execution_count": 257,
   "metadata": {},
   "outputs": [],
   "source": [
    "cluster_size = 12\n",
    "pca = PCA(n_components=5)\n",
    "pca.fit(encoder_df)\n",
    "pca_samples = pca.transform(encoder_df)\n",
    "ps = pd.DataFrame(pca_samples)\n",
    "kmeans = KMeans(n_clusters=cluster_size, random_state=42)\n",
    "cluster_kmeans = kmeans.fit_predict(ps)\n",
    "agglomerative_clustering = AgglomerativeClustering(n_clusters=cluster_size, linkage='ward').fit(ps)\n",
    "\n",
    "prediction = X.copy()\n",
    "\n",
    "prediction = pd.concat([ps,pd.DataFrame(cluster_kmeans, columns=['pred'])], axis = 1)\n",
    "prediction[\"pred\"] = prediction.pred.astype('category')\n",
    "prediction = prediction.dropna()\n",
    "clus0 = prediction.loc[prediction.pred == 0]\n",
    "clus1 = prediction.loc[prediction.pred == 1]\n",
    "clus2 = prediction.loc[prediction.pred == 2]\n",
    "clus3 = prediction.loc[prediction.pred == 3]  \n",
    "clus4 = prediction.loc[prediction.pred == 4]  \n",
    "clus5 = prediction.loc[prediction.pred == 5]\n",
    "clus6 = prediction.loc[prediction.pred == 6]\n",
    "clus7 = prediction.loc[prediction.pred == 7]\n",
    "clus8 = prediction.loc[prediction.pred == 8]\n",
    "clus9 = prediction.loc[prediction.pred == 9]\n",
    "clus10 = prediction.loc[prediction.pred == 10]\n",
    "clus11 = prediction.loc[prediction.pred == 11]\n",
    "k_list = [clus0.values, clus1.values,clus2.values,clus3.values,clus4.values,clus5.values,clus6.values,clus7.values,clus8.values\n",
    "         ,clus9.values,clus10.values,clus11.values]\n",
    "k_Cluster_12 = dunn(k_list)"
   ]
  },
  {
   "cell_type": "code",
   "execution_count": 258,
   "metadata": {},
   "outputs": [
    {
     "name": "stdout",
     "output_type": "stream",
     "text": [
      "0.4670310122352045 0.6373241367818012\n"
     ]
    }
   ],
   "source": [
    "prediction = X.copy()\n",
    "\n",
    "prediction = pd.concat([ps,pd.DataFrame(agglomerative_clustering.labels_, columns=['pred'])], axis = 1)\n",
    "prediction[\"pred\"] = prediction.pred.astype('category')\n",
    "prediction = prediction.dropna()\n",
    "clus0 = prediction.loc[prediction.pred == 0]\n",
    "clus1 = prediction.loc[prediction.pred == 1]\n",
    "clus2 = prediction.loc[prediction.pred == 2]\n",
    "clus3 = prediction.loc[prediction.pred == 3]  \n",
    "clus4 = prediction.loc[prediction.pred == 4]  \n",
    "clus5 = prediction.loc[prediction.pred == 5]\n",
    "clus6 = prediction.loc[prediction.pred == 6]\n",
    "clus7 = prediction.loc[prediction.pred == 7]\n",
    "clus8 = prediction.loc[prediction.pred == 8]\n",
    "clus9 = prediction.loc[prediction.pred == 9]\n",
    "clus10 = prediction.loc[prediction.pred == 10]\n",
    "clus11 = prediction.loc[prediction.pred == 11]\n",
    "a_list = [clus0.values, clus1.values,clus2.values,clus3.values,clus4.values,clus5.values,clus6.values,clus7.values,clus8.values\n",
    "         ,clus9.values,clus10.values,clus11.values]\n",
    "a_Cluster_12 = dunn(a_list)\n",
    "print(k_Cluster_12,a_Cluster_12)"
   ]
  },
  {
   "cell_type": "code",
   "execution_count": 259,
   "metadata": {},
   "outputs": [],
   "source": [
    "cluster_size = 13\n",
    "pca = PCA(n_components=5)\n",
    "pca.fit(encoder_df)\n",
    "pca_samples = pca.transform(encoder_df)\n",
    "ps = pd.DataFrame(pca_samples)\n",
    "kmeans = KMeans(n_clusters=cluster_size, random_state=42)\n",
    "cluster_kmeans = kmeans.fit_predict(ps)\n",
    "agglomerative_clustering = AgglomerativeClustering(n_clusters=cluster_size, linkage='ward').fit(ps)\n",
    "\n",
    "prediction = X.copy()\n",
    "\n",
    "prediction = pd.concat([ps,pd.DataFrame(cluster_kmeans, columns=['pred'])], axis = 1)\n",
    "prediction[\"pred\"] = prediction.pred.astype('category')\n",
    "prediction = prediction.dropna()\n",
    "clus0 = prediction.loc[prediction.pred == 0]\n",
    "clus1 = prediction.loc[prediction.pred == 1]\n",
    "clus2 = prediction.loc[prediction.pred == 2]\n",
    "clus3 = prediction.loc[prediction.pred == 3]  \n",
    "clus4 = prediction.loc[prediction.pred == 4]  \n",
    "clus5 = prediction.loc[prediction.pred == 5]\n",
    "clus6 = prediction.loc[prediction.pred == 6]\n",
    "clus7 = prediction.loc[prediction.pred == 7]\n",
    "clus8 = prediction.loc[prediction.pred == 8]\n",
    "clus9 = prediction.loc[prediction.pred == 9]\n",
    "clus10 = prediction.loc[prediction.pred == 10]\n",
    "clus11 = prediction.loc[prediction.pred == 11]\n",
    "clus12 = prediction.loc[prediction.pred == 12]\n",
    "k_list = [clus0.values, clus1.values,clus2.values,clus3.values,clus4.values,clus5.values,clus6.values,clus7.values,clus8.values\n",
    "         ,clus9.values,clus10.values,clus11.values,clus12.values]\n",
    "k_Cluster_13 = dunn(k_list)"
   ]
  },
  {
   "cell_type": "code",
   "execution_count": 260,
   "metadata": {},
   "outputs": [
    {
     "name": "stdout",
     "output_type": "stream",
     "text": [
      "0.5676884687170396 0.5086492419031837\n"
     ]
    }
   ],
   "source": [
    "prediction = X.copy()\n",
    "\n",
    "prediction = pd.concat([ps,pd.DataFrame(agglomerative_clustering.labels_, columns=['pred'])], axis = 1)\n",
    "prediction[\"pred\"] = prediction.pred.astype('category')\n",
    "prediction = prediction.dropna()\n",
    "clus0 = prediction.loc[prediction.pred == 0]\n",
    "clus1 = prediction.loc[prediction.pred == 1]\n",
    "clus2 = prediction.loc[prediction.pred == 2]\n",
    "clus3 = prediction.loc[prediction.pred == 3]  \n",
    "clus4 = prediction.loc[prediction.pred == 4]  \n",
    "clus5 = prediction.loc[prediction.pred == 5]\n",
    "clus6 = prediction.loc[prediction.pred == 6]\n",
    "clus7 = prediction.loc[prediction.pred == 7]\n",
    "clus8 = prediction.loc[prediction.pred == 8]\n",
    "clus9 = prediction.loc[prediction.pred == 9]\n",
    "clus10 = prediction.loc[prediction.pred == 10]\n",
    "clus11 = prediction.loc[prediction.pred == 11]\n",
    "clus11 = prediction.loc[prediction.pred == 11]\n",
    "clus12 = prediction.loc[prediction.pred == 12]\n",
    "a_list = [clus0.values, clus1.values,clus2.values,clus3.values,clus4.values,clus5.values,clus6.values,clus7.values,clus8.values\n",
    "         ,clus9.values,clus10.values,clus11.values,clus12.values]\n",
    "a_Cluster_13 = dunn(a_list)\n",
    "print(k_Cluster_13,a_Cluster_13)"
   ]
  },
  {
   "cell_type": "code",
   "execution_count": 261,
   "metadata": {},
   "outputs": [],
   "source": [
    "cluster_size = 14\n",
    "pca = PCA(n_components=5)\n",
    "pca.fit(encoder_df)\n",
    "pca_samples = pca.transform(encoder_df)\n",
    "ps = pd.DataFrame(pca_samples)\n",
    "kmeans = KMeans(n_clusters=cluster_size, random_state=42)\n",
    "cluster_kmeans = kmeans.fit_predict(ps)\n",
    "agglomerative_clustering = AgglomerativeClustering(n_clusters=cluster_size, linkage='ward').fit(ps)\n",
    "\n",
    "prediction = X.copy()\n",
    "\n",
    "prediction = pd.concat([ps,pd.DataFrame(cluster_kmeans, columns=['pred'])], axis = 1)\n",
    "prediction[\"pred\"] = prediction.pred.astype('category')\n",
    "prediction = prediction.dropna()\n",
    "clus0 = prediction.loc[prediction.pred == 0]\n",
    "clus1 = prediction.loc[prediction.pred == 1]\n",
    "clus2 = prediction.loc[prediction.pred == 2]\n",
    "clus3 = prediction.loc[prediction.pred == 3]  \n",
    "clus4 = prediction.loc[prediction.pred == 4]  \n",
    "clus5 = prediction.loc[prediction.pred == 5]\n",
    "clus6 = prediction.loc[prediction.pred == 6]\n",
    "clus7 = prediction.loc[prediction.pred == 7]\n",
    "clus8 = prediction.loc[prediction.pred == 8]\n",
    "clus9 = prediction.loc[prediction.pred == 9]\n",
    "clus10 = prediction.loc[prediction.pred == 10]\n",
    "clus11 = prediction.loc[prediction.pred == 11]\n",
    "clus12 = prediction.loc[prediction.pred == 12]\n",
    "clus13 = prediction.loc[prediction.pred == 13]\n",
    "k_list = [clus0.values, clus1.values,clus2.values,clus3.values,clus4.values,clus5.values,clus6.values,clus7.values,clus8.values\n",
    "         ,clus9.values,clus10.values,clus11.values,clus12.values,clus13.values]\n",
    "k_Cluster_14 = dunn(k_list)"
   ]
  },
  {
   "cell_type": "code",
   "execution_count": 262,
   "metadata": {},
   "outputs": [
    {
     "name": "stdout",
     "output_type": "stream",
     "text": [
      "0.4013618337830379 0.5086492419031837\n"
     ]
    }
   ],
   "source": [
    "prediction = X.copy()\n",
    "\n",
    "prediction = pd.concat([ps,pd.DataFrame(agglomerative_clustering.labels_, columns=['pred'])], axis = 1)\n",
    "prediction[\"pred\"] = prediction.pred.astype('category')\n",
    "prediction = prediction.dropna()\n",
    "clus0 = prediction.loc[prediction.pred == 0]\n",
    "clus1 = prediction.loc[prediction.pred == 1]\n",
    "clus2 = prediction.loc[prediction.pred == 2]\n",
    "clus3 = prediction.loc[prediction.pred == 3]  \n",
    "clus4 = prediction.loc[prediction.pred == 4]  \n",
    "clus5 = prediction.loc[prediction.pred == 5]\n",
    "clus6 = prediction.loc[prediction.pred == 6]\n",
    "clus7 = prediction.loc[prediction.pred == 7]\n",
    "clus8 = prediction.loc[prediction.pred == 8]\n",
    "clus9 = prediction.loc[prediction.pred == 9]\n",
    "clus10 = prediction.loc[prediction.pred == 10]\n",
    "clus11 = prediction.loc[prediction.pred == 11]\n",
    "clus11 = prediction.loc[prediction.pred == 11]\n",
    "clus12 = prediction.loc[prediction.pred == 12]\n",
    "clus13 = prediction.loc[prediction.pred == 13]\n",
    "a_list = [clus0.values, clus1.values,clus2.values,clus3.values,clus4.values,clus5.values,clus6.values,clus7.values,clus8.values\n",
    "         ,clus9.values,clus10.values,clus11.values,clus12.values,clus13.values]\n",
    "a_Cluster_14 = dunn(a_list)\n",
    "print(k_Cluster_14,a_Cluster_14)"
   ]
  },
  {
   "cell_type": "code",
   "execution_count": 263,
   "metadata": {},
   "outputs": [],
   "source": [
    "cluster_size = 15\n",
    "pca = PCA(n_components=5)\n",
    "pca.fit(encoder_df)\n",
    "pca_samples = pca.transform(encoder_df)\n",
    "ps = pd.DataFrame(pca_samples)\n",
    "kmeans = KMeans(n_clusters=cluster_size, random_state=42)\n",
    "cluster_kmeans = kmeans.fit_predict(ps)\n",
    "agglomerative_clustering = AgglomerativeClustering(n_clusters=cluster_size, linkage='ward').fit(ps)\n",
    "\n",
    "prediction = X.copy()\n",
    "\n",
    "prediction = pd.concat([ps,pd.DataFrame(cluster_kmeans, columns=['pred'])], axis = 1)\n",
    "prediction[\"pred\"] = prediction.pred.astype('category')\n",
    "prediction = prediction.dropna()\n",
    "clus0 = prediction.loc[prediction.pred == 0]\n",
    "clus1 = prediction.loc[prediction.pred == 1]\n",
    "clus2 = prediction.loc[prediction.pred == 2]\n",
    "clus3 = prediction.loc[prediction.pred == 3]  \n",
    "clus4 = prediction.loc[prediction.pred == 4]  \n",
    "clus5 = prediction.loc[prediction.pred == 5]\n",
    "clus6 = prediction.loc[prediction.pred == 6]\n",
    "clus7 = prediction.loc[prediction.pred == 7]\n",
    "clus8 = prediction.loc[prediction.pred == 8]\n",
    "clus9 = prediction.loc[prediction.pred == 9]\n",
    "clus10 = prediction.loc[prediction.pred == 10]\n",
    "clus11 = prediction.loc[prediction.pred == 11]\n",
    "clus12 = prediction.loc[prediction.pred == 12]\n",
    "clus13 = prediction.loc[prediction.pred == 13]\n",
    "clus14 = prediction.loc[prediction.pred == 14]\n",
    "k_list = [clus0.values, clus1.values,clus2.values,clus3.values,clus4.values,clus5.values,clus6.values,clus7.values,clus8.values\n",
    "         ,clus9.values,clus10.values,clus11.values,clus12.values,clus13.values,clus14.values]\n",
    "k_Cluster_15 = dunn(k_list)"
   ]
  },
  {
   "cell_type": "code",
   "execution_count": 264,
   "metadata": {},
   "outputs": [
    {
     "name": "stdout",
     "output_type": "stream",
     "text": [
      "0.45173572941404283 0.5728003251811395\n"
     ]
    }
   ],
   "source": [
    "prediction = X.copy()\n",
    "\n",
    "prediction = pd.concat([ps,pd.DataFrame(agglomerative_clustering.labels_, columns=['pred'])], axis = 1)\n",
    "prediction[\"pred\"] = prediction.pred.astype('category')\n",
    "prediction = prediction.dropna()\n",
    "clus0 = prediction.loc[prediction.pred == 0]\n",
    "clus1 = prediction.loc[prediction.pred == 1]\n",
    "clus2 = prediction.loc[prediction.pred == 2]\n",
    "clus3 = prediction.loc[prediction.pred == 3]  \n",
    "clus4 = prediction.loc[prediction.pred == 4]  \n",
    "clus5 = prediction.loc[prediction.pred == 5]\n",
    "clus6 = prediction.loc[prediction.pred == 6]\n",
    "clus7 = prediction.loc[prediction.pred == 7]\n",
    "clus8 = prediction.loc[prediction.pred == 8]\n",
    "clus9 = prediction.loc[prediction.pred == 9]\n",
    "clus10 = prediction.loc[prediction.pred == 10]\n",
    "clus11 = prediction.loc[prediction.pred == 11]\n",
    "clus11 = prediction.loc[prediction.pred == 11]\n",
    "clus12 = prediction.loc[prediction.pred == 12]\n",
    "clus13 = prediction.loc[prediction.pred == 13]\n",
    "clus14 = prediction.loc[prediction.pred == 14]\n",
    "a_list = [clus0.values, clus1.values,clus2.values,clus3.values,clus4.values,clus5.values,clus6.values,clus7.values,clus8.values\n",
    "         ,clus9.values,clus10.values,clus11.values,clus12.values,clus13.values,clus14.values]\n",
    "a_Cluster_15 = dunn(a_list)\n",
    "print(k_Cluster_15,a_Cluster_15)"
   ]
  },
  {
   "cell_type": "code",
   "execution_count": 265,
   "metadata": {},
   "outputs": [],
   "source": [
    "cluster_size = 16\n",
    "pca = PCA(n_components=5)\n",
    "pca.fit(encoder_df)\n",
    "pca_samples = pca.transform(encoder_df)\n",
    "ps = pd.DataFrame(pca_samples)\n",
    "kmeans = KMeans(n_clusters=cluster_size, random_state=42)\n",
    "cluster_kmeans = kmeans.fit_predict(ps)\n",
    "agglomerative_clustering = AgglomerativeClustering(n_clusters=cluster_size, linkage='ward').fit(ps)\n",
    "\n",
    "prediction = X.copy()\n",
    "\n",
    "prediction = pd.concat([ps,pd.DataFrame(cluster_kmeans, columns=['pred'])], axis = 1)\n",
    "prediction[\"pred\"] = prediction.pred.astype('category')\n",
    "prediction = prediction.dropna()\n",
    "clus0 = prediction.loc[prediction.pred == 0]\n",
    "clus1 = prediction.loc[prediction.pred == 1]\n",
    "clus2 = prediction.loc[prediction.pred == 2]\n",
    "clus3 = prediction.loc[prediction.pred == 3]  \n",
    "clus4 = prediction.loc[prediction.pred == 4]  \n",
    "clus5 = prediction.loc[prediction.pred == 5]\n",
    "clus6 = prediction.loc[prediction.pred == 6]\n",
    "clus7 = prediction.loc[prediction.pred == 7]\n",
    "clus8 = prediction.loc[prediction.pred == 8]\n",
    "clus9 = prediction.loc[prediction.pred == 9]\n",
    "clus10 = prediction.loc[prediction.pred == 10]\n",
    "clus11 = prediction.loc[prediction.pred == 11]\n",
    "clus12 = prediction.loc[prediction.pred == 12]\n",
    "clus13 = prediction.loc[prediction.pred == 13]\n",
    "clus14 = prediction.loc[prediction.pred == 14]\n",
    "clus15 = prediction.loc[prediction.pred == 15]\n",
    "k_list = [clus0.values, clus1.values,clus2.values,clus3.values,clus4.values,clus5.values,clus6.values,clus7.values,clus8.values\n",
    "         ,clus9.values,clus10.values,clus11.values,clus12.values,clus13.values,clus14.values,clus15.values]\n",
    "k_Cluster_16 = dunn(k_list)"
   ]
  },
  {
   "cell_type": "code",
   "execution_count": 266,
   "metadata": {},
   "outputs": [
    {
     "name": "stdout",
     "output_type": "stream",
     "text": [
      "0.5758664339209429 0.5118775498860251\n"
     ]
    }
   ],
   "source": [
    "prediction = X.copy()\n",
    "\n",
    "prediction = pd.concat([ps,pd.DataFrame(agglomerative_clustering.labels_, columns=['pred'])], axis = 1)\n",
    "prediction[\"pred\"] = prediction.pred.astype('category')\n",
    "prediction = prediction.dropna()\n",
    "clus0 = prediction.loc[prediction.pred == 0]\n",
    "clus1 = prediction.loc[prediction.pred == 1]\n",
    "clus2 = prediction.loc[prediction.pred == 2]\n",
    "clus3 = prediction.loc[prediction.pred == 3]  \n",
    "clus4 = prediction.loc[prediction.pred == 4]  \n",
    "clus5 = prediction.loc[prediction.pred == 5]\n",
    "clus6 = prediction.loc[prediction.pred == 6]\n",
    "clus7 = prediction.loc[prediction.pred == 7]\n",
    "clus8 = prediction.loc[prediction.pred == 8]\n",
    "clus9 = prediction.loc[prediction.pred == 9]\n",
    "clus10 = prediction.loc[prediction.pred == 10]\n",
    "clus11 = prediction.loc[prediction.pred == 11]\n",
    "clus11 = prediction.loc[prediction.pred == 11]\n",
    "clus12 = prediction.loc[prediction.pred == 12]\n",
    "clus13 = prediction.loc[prediction.pred == 13]\n",
    "clus14 = prediction.loc[prediction.pred == 14]\n",
    "clus15 = prediction.loc[prediction.pred == 15]\n",
    "a_list = [clus0.values, clus1.values,clus2.values,clus3.values,clus4.values,clus5.values,clus6.values,clus7.values,clus8.values\n",
    "         ,clus9.values,clus10.values,clus11.values,clus12.values,clus13.values,clus14.values,clus15.values]\n",
    "a_Cluster_16 = dunn(a_list)\n",
    "print(k_Cluster_16,a_Cluster_16)"
   ]
  },
  {
   "cell_type": "code",
   "execution_count": 267,
   "metadata": {},
   "outputs": [],
   "source": [
    "cluster_size = 17\n",
    "pca = PCA(n_components=5)\n",
    "pca.fit(encoder_df)\n",
    "pca_samples = pca.transform(encoder_df)\n",
    "ps = pd.DataFrame(pca_samples)\n",
    "kmeans = KMeans(n_clusters=cluster_size, random_state=42)\n",
    "cluster_kmeans = kmeans.fit_predict(ps)\n",
    "agglomerative_clustering = AgglomerativeClustering(n_clusters=cluster_size, linkage='ward').fit(ps)\n",
    "\n",
    "prediction = X.copy()\n",
    "\n",
    "prediction = pd.concat([ps,pd.DataFrame(cluster_kmeans, columns=['pred'])], axis = 1)\n",
    "prediction[\"pred\"] = prediction.pred.astype('category')\n",
    "prediction = prediction.dropna()\n",
    "clus0 = prediction.loc[prediction.pred == 0]\n",
    "clus1 = prediction.loc[prediction.pred == 1]\n",
    "clus2 = prediction.loc[prediction.pred == 2]\n",
    "clus3 = prediction.loc[prediction.pred == 3]  \n",
    "clus4 = prediction.loc[prediction.pred == 4]  \n",
    "clus5 = prediction.loc[prediction.pred == 5]\n",
    "clus6 = prediction.loc[prediction.pred == 6]\n",
    "clus7 = prediction.loc[prediction.pred == 7]\n",
    "clus8 = prediction.loc[prediction.pred == 8]\n",
    "clus9 = prediction.loc[prediction.pred == 9]\n",
    "clus10 = prediction.loc[prediction.pred == 10]\n",
    "clus11 = prediction.loc[prediction.pred == 11]\n",
    "clus12 = prediction.loc[prediction.pred == 12]\n",
    "clus13 = prediction.loc[prediction.pred == 13]\n",
    "clus14 = prediction.loc[prediction.pred == 14]\n",
    "clus15 = prediction.loc[prediction.pred == 15]\n",
    "clus16 = prediction.loc[prediction.pred == 16]\n",
    "k_list = [clus0.values, clus1.values,clus2.values,clus3.values,clus4.values,clus5.values,clus6.values,clus7.values,clus8.values\n",
    "         ,clus9.values,clus10.values,clus11.values,clus12.values,clus13.values,clus14.values,clus15.values,clus16.values]\n",
    "k_Cluster_17 = dunn(k_list)"
   ]
  },
  {
   "cell_type": "code",
   "execution_count": 268,
   "metadata": {},
   "outputs": [
    {
     "name": "stdout",
     "output_type": "stream",
     "text": [
      "0.61590110993894 0.5742041914390388\n"
     ]
    }
   ],
   "source": [
    "prediction = X.copy()\n",
    "\n",
    "prediction = pd.concat([ps,pd.DataFrame(agglomerative_clustering.labels_, columns=['pred'])], axis = 1)\n",
    "prediction[\"pred\"] = prediction.pred.astype('category')\n",
    "prediction = prediction.dropna()\n",
    "clus0 = prediction.loc[prediction.pred == 0]\n",
    "clus1 = prediction.loc[prediction.pred == 1]\n",
    "clus2 = prediction.loc[prediction.pred == 2]\n",
    "clus3 = prediction.loc[prediction.pred == 3]  \n",
    "clus4 = prediction.loc[prediction.pred == 4]  \n",
    "clus5 = prediction.loc[prediction.pred == 5]\n",
    "clus6 = prediction.loc[prediction.pred == 6]\n",
    "clus7 = prediction.loc[prediction.pred == 7]\n",
    "clus8 = prediction.loc[prediction.pred == 8]\n",
    "clus9 = prediction.loc[prediction.pred == 9]\n",
    "clus10 = prediction.loc[prediction.pred == 10]\n",
    "clus11 = prediction.loc[prediction.pred == 11]\n",
    "clus11 = prediction.loc[prediction.pred == 11]\n",
    "clus12 = prediction.loc[prediction.pred == 12]\n",
    "clus13 = prediction.loc[prediction.pred == 13]\n",
    "clus14 = prediction.loc[prediction.pred == 14]\n",
    "clus15 = prediction.loc[prediction.pred == 15]\n",
    "clus16 = prediction.loc[prediction.pred == 16]\n",
    "a_list = [clus0.values, clus1.values,clus2.values,clus3.values,clus4.values,clus5.values,clus6.values,clus7.values,clus8.values\n",
    "         ,clus9.values,clus10.values,clus11.values,clus12.values,clus13.values,clus14.values,clus15.values,clus16.values]\n",
    "a_Cluster_17 = dunn(a_list)\n",
    "print(k_Cluster_17,a_Cluster_17)"
   ]
  },
  {
   "cell_type": "code",
   "execution_count": 269,
   "metadata": {},
   "outputs": [],
   "source": [
    "cluster_size = 18\n",
    "pca = PCA(n_components=5)\n",
    "pca.fit(encoder_df)\n",
    "pca_samples = pca.transform(encoder_df)\n",
    "ps = pd.DataFrame(pca_samples)\n",
    "kmeans = KMeans(n_clusters=cluster_size, random_state=42)\n",
    "cluster_kmeans = kmeans.fit_predict(ps)\n",
    "agglomerative_clustering = AgglomerativeClustering(n_clusters=cluster_size, linkage='ward').fit(ps)\n",
    "\n",
    "prediction = X.copy()\n",
    "\n",
    "prediction = pd.concat([ps,pd.DataFrame(cluster_kmeans, columns=['pred'])], axis = 1)\n",
    "prediction[\"pred\"] = prediction.pred.astype('category')\n",
    "prediction = prediction.dropna()\n",
    "clus0 = prediction.loc[prediction.pred == 0]\n",
    "clus1 = prediction.loc[prediction.pred == 1]\n",
    "clus2 = prediction.loc[prediction.pred == 2]\n",
    "clus3 = prediction.loc[prediction.pred == 3]  \n",
    "clus4 = prediction.loc[prediction.pred == 4]  \n",
    "clus5 = prediction.loc[prediction.pred == 5]\n",
    "clus6 = prediction.loc[prediction.pred == 6]\n",
    "clus7 = prediction.loc[prediction.pred == 7]\n",
    "clus8 = prediction.loc[prediction.pred == 8]\n",
    "clus9 = prediction.loc[prediction.pred == 9]\n",
    "clus10 = prediction.loc[prediction.pred == 10]\n",
    "clus11 = prediction.loc[prediction.pred == 11]\n",
    "clus12 = prediction.loc[prediction.pred == 12]\n",
    "clus13 = prediction.loc[prediction.pred == 13]\n",
    "clus14 = prediction.loc[prediction.pred == 14]\n",
    "clus15 = prediction.loc[prediction.pred == 15]\n",
    "clus16 = prediction.loc[prediction.pred == 16]\n",
    "clus17 = prediction.loc[prediction.pred == 17]\n",
    "k_list = [clus0.values, clus1.values,clus2.values,clus3.values,clus4.values,clus5.values,clus6.values,clus7.values,clus8.values\n",
    "         ,clus9.values,clus10.values,clus11.values,clus12.values,clus13.values,clus14.values,clus15.values,clus16.values\n",
    "         ,clus17.values]\n",
    "k_Cluster_18 = dunn(k_list)"
   ]
  },
  {
   "cell_type": "code",
   "execution_count": 270,
   "metadata": {},
   "outputs": [
    {
     "name": "stdout",
     "output_type": "stream",
     "text": [
      "0.42597773172858455 0.874954582491067\n"
     ]
    }
   ],
   "source": [
    "prediction = X.copy()\n",
    "\n",
    "prediction = pd.concat([ps,pd.DataFrame(agglomerative_clustering.labels_, columns=['pred'])], axis = 1)\n",
    "prediction[\"pred\"] = prediction.pred.astype('category')\n",
    "prediction = prediction.dropna()\n",
    "clus0 = prediction.loc[prediction.pred == 0]\n",
    "clus1 = prediction.loc[prediction.pred == 1]\n",
    "clus2 = prediction.loc[prediction.pred == 2]\n",
    "clus3 = prediction.loc[prediction.pred == 3]  \n",
    "clus4 = prediction.loc[prediction.pred == 4]  \n",
    "clus5 = prediction.loc[prediction.pred == 5]\n",
    "clus6 = prediction.loc[prediction.pred == 6]\n",
    "clus7 = prediction.loc[prediction.pred == 7]\n",
    "clus8 = prediction.loc[prediction.pred == 8]\n",
    "clus9 = prediction.loc[prediction.pred == 9]\n",
    "clus10 = prediction.loc[prediction.pred == 10]\n",
    "clus11 = prediction.loc[prediction.pred == 11]\n",
    "clus11 = prediction.loc[prediction.pred == 11]\n",
    "clus12 = prediction.loc[prediction.pred == 12]\n",
    "clus13 = prediction.loc[prediction.pred == 13]\n",
    "clus14 = prediction.loc[prediction.pred == 14]\n",
    "clus15 = prediction.loc[prediction.pred == 15]\n",
    "clus16 = prediction.loc[prediction.pred == 16]\n",
    "clus17 = prediction.loc[prediction.pred == 17]\n",
    "a_list = [clus0.values, clus1.values,clus2.values,clus3.values,clus4.values,clus5.values,clus6.values,clus7.values,clus8.values\n",
    "         ,clus9.values,clus10.values,clus11.values,clus12.values,clus13.values,clus14.values,clus15.values,clus16.values\n",
    "         ,clus17.values]\n",
    "a_Cluster_18 = dunn(a_list)\n",
    "print(k_Cluster_18,a_Cluster_18)"
   ]
  },
  {
   "cell_type": "code",
   "execution_count": 271,
   "metadata": {},
   "outputs": [],
   "source": [
    "cluster_size = 19\n",
    "pca = PCA(n_components=5)\n",
    "pca.fit(encoder_df)\n",
    "pca_samples = pca.transform(encoder_df)\n",
    "ps = pd.DataFrame(pca_samples)\n",
    "kmeans = KMeans(n_clusters=cluster_size, random_state=42)\n",
    "cluster_kmeans = kmeans.fit_predict(ps)\n",
    "agglomerative_clustering = AgglomerativeClustering(n_clusters=cluster_size, linkage='ward').fit(ps)\n",
    "\n",
    "prediction = X.copy()\n",
    "\n",
    "prediction = pd.concat([ps,pd.DataFrame(cluster_kmeans, columns=['pred'])], axis = 1)\n",
    "prediction[\"pred\"] = prediction.pred.astype('category')\n",
    "prediction = prediction.dropna()\n",
    "clus0 = prediction.loc[prediction.pred == 0]\n",
    "clus1 = prediction.loc[prediction.pred == 1]\n",
    "clus2 = prediction.loc[prediction.pred == 2]\n",
    "clus3 = prediction.loc[prediction.pred == 3]  \n",
    "clus4 = prediction.loc[prediction.pred == 4]  \n",
    "clus5 = prediction.loc[prediction.pred == 5]\n",
    "clus6 = prediction.loc[prediction.pred == 6]\n",
    "clus7 = prediction.loc[prediction.pred == 7]\n",
    "clus8 = prediction.loc[prediction.pred == 8]\n",
    "clus9 = prediction.loc[prediction.pred == 9]\n",
    "clus10 = prediction.loc[prediction.pred == 10]\n",
    "clus11 = prediction.loc[prediction.pred == 11]\n",
    "clus12 = prediction.loc[prediction.pred == 12]\n",
    "clus13 = prediction.loc[prediction.pred == 13]\n",
    "clus14 = prediction.loc[prediction.pred == 14]\n",
    "clus15 = prediction.loc[prediction.pred == 15]\n",
    "clus16 = prediction.loc[prediction.pred == 16]\n",
    "clus17 = prediction.loc[prediction.pred == 17]\n",
    "clus18 = prediction.loc[prediction.pred == 18]\n",
    "k_list = [clus0.values, clus1.values,clus2.values,clus3.values,clus4.values,clus5.values,clus6.values,clus7.values,clus8.values\n",
    "         ,clus9.values,clus10.values,clus11.values,clus12.values,clus13.values,clus14.values,clus15.values,clus16.values\n",
    "         ,clus17.values,clus18.values]\n",
    "k_Cluster_19 = dunn(k_list)"
   ]
  },
  {
   "cell_type": "code",
   "execution_count": 272,
   "metadata": {},
   "outputs": [
    {
     "name": "stdout",
     "output_type": "stream",
     "text": [
      "0.6112200434521313 0.7074811920539015\n"
     ]
    }
   ],
   "source": [
    "prediction = X.copy()\n",
    "\n",
    "prediction = pd.concat([ps,pd.DataFrame(agglomerative_clustering.labels_, columns=['pred'])], axis = 1)\n",
    "prediction[\"pred\"] = prediction.pred.astype('category')\n",
    "prediction = prediction.dropna()\n",
    "clus0 = prediction.loc[prediction.pred == 0]\n",
    "clus1 = prediction.loc[prediction.pred == 1]\n",
    "clus2 = prediction.loc[prediction.pred == 2]\n",
    "clus3 = prediction.loc[prediction.pred == 3]  \n",
    "clus4 = prediction.loc[prediction.pred == 4]  \n",
    "clus5 = prediction.loc[prediction.pred == 5]\n",
    "clus6 = prediction.loc[prediction.pred == 6]\n",
    "clus7 = prediction.loc[prediction.pred == 7]\n",
    "clus8 = prediction.loc[prediction.pred == 8]\n",
    "clus9 = prediction.loc[prediction.pred == 9]\n",
    "clus10 = prediction.loc[prediction.pred == 10]\n",
    "clus11 = prediction.loc[prediction.pred == 11]\n",
    "clus11 = prediction.loc[prediction.pred == 11]\n",
    "clus12 = prediction.loc[prediction.pred == 12]\n",
    "clus13 = prediction.loc[prediction.pred == 13]\n",
    "clus14 = prediction.loc[prediction.pred == 14]\n",
    "clus15 = prediction.loc[prediction.pred == 15]\n",
    "clus16 = prediction.loc[prediction.pred == 16]\n",
    "clus17 = prediction.loc[prediction.pred == 17]\n",
    "clus18 = prediction.loc[prediction.pred == 18]\n",
    "a_list = [clus0.values, clus1.values,clus2.values,clus3.values,clus4.values,clus5.values,clus6.values,clus7.values,clus8.values\n",
    "         ,clus9.values,clus10.values,clus11.values,clus12.values,clus13.values,clus14.values,clus15.values,clus16.values\n",
    "         ,clus17.values,clus18.values]\n",
    "a_Cluster_19 = dunn(a_list)\n",
    "print(k_Cluster_19,a_Cluster_19)"
   ]
  },
  {
   "cell_type": "code",
   "execution_count": 273,
   "metadata": {},
   "outputs": [],
   "source": [
    "cluster_size = 20\n",
    "pca = PCA(n_components=5)\n",
    "pca.fit(encoder_df)\n",
    "pca_samples = pca.transform(encoder_df)\n",
    "ps = pd.DataFrame(pca_samples)\n",
    "kmeans = KMeans(n_clusters=cluster_size, random_state=42)\n",
    "cluster_kmeans = kmeans.fit_predict(ps)\n",
    "agglomerative_clustering = AgglomerativeClustering(n_clusters=cluster_size, linkage='ward').fit(ps)\n",
    "\n",
    "prediction = X.copy()\n",
    "\n",
    "prediction = pd.concat([ps,pd.DataFrame(cluster_kmeans, columns=['pred'])], axis = 1)\n",
    "prediction[\"pred\"] = prediction.pred.astype('category')\n",
    "prediction = prediction.dropna()\n",
    "clus0 = prediction.loc[prediction.pred == 0]\n",
    "clus1 = prediction.loc[prediction.pred == 1]\n",
    "clus2 = prediction.loc[prediction.pred == 2]\n",
    "clus3 = prediction.loc[prediction.pred == 3]  \n",
    "clus4 = prediction.loc[prediction.pred == 4]  \n",
    "clus5 = prediction.loc[prediction.pred == 5]\n",
    "clus6 = prediction.loc[prediction.pred == 6]\n",
    "clus7 = prediction.loc[prediction.pred == 7]\n",
    "clus8 = prediction.loc[prediction.pred == 8]\n",
    "clus9 = prediction.loc[prediction.pred == 9]\n",
    "clus10 = prediction.loc[prediction.pred == 10]\n",
    "clus11 = prediction.loc[prediction.pred == 11]\n",
    "clus12 = prediction.loc[prediction.pred == 12]\n",
    "clus13 = prediction.loc[prediction.pred == 13]\n",
    "clus14 = prediction.loc[prediction.pred == 14]\n",
    "clus15 = prediction.loc[prediction.pred == 15]\n",
    "clus16 = prediction.loc[prediction.pred == 16]\n",
    "clus17 = prediction.loc[prediction.pred == 17]\n",
    "clus18 = prediction.loc[prediction.pred == 18]\n",
    "clus19 = prediction.loc[prediction.pred == 19]\n",
    "k_list = [clus0.values, clus1.values,clus2.values,clus3.values,clus4.values,clus5.values,clus6.values,clus7.values,clus8.values\n",
    "         ,clus9.values,clus10.values,clus11.values,clus12.values,clus13.values,clus14.values,clus15.values,clus16.values\n",
    "         ,clus17.values,clus18.values,clus19.values]\n",
    "k_Cluster_20 = dunn(k_list)"
   ]
  },
  {
   "cell_type": "code",
   "execution_count": 274,
   "metadata": {},
   "outputs": [
    {
     "name": "stdout",
     "output_type": "stream",
     "text": [
      "0.6527154818304851 0.7074811920539015\n"
     ]
    }
   ],
   "source": [
    "prediction = X.copy()\n",
    "\n",
    "prediction = pd.concat([ps,pd.DataFrame(agglomerative_clustering.labels_, columns=['pred'])], axis = 1)\n",
    "prediction[\"pred\"] = prediction.pred.astype('category')\n",
    "prediction = prediction.dropna()\n",
    "clus0 = prediction.loc[prediction.pred == 0]\n",
    "clus1 = prediction.loc[prediction.pred == 1]\n",
    "clus2 = prediction.loc[prediction.pred == 2]\n",
    "clus3 = prediction.loc[prediction.pred == 3]  \n",
    "clus4 = prediction.loc[prediction.pred == 4]  \n",
    "clus5 = prediction.loc[prediction.pred == 5]\n",
    "clus6 = prediction.loc[prediction.pred == 6]\n",
    "clus7 = prediction.loc[prediction.pred == 7]\n",
    "clus8 = prediction.loc[prediction.pred == 8]\n",
    "clus9 = prediction.loc[prediction.pred == 9]\n",
    "clus10 = prediction.loc[prediction.pred == 10]\n",
    "clus11 = prediction.loc[prediction.pred == 11]\n",
    "clus11 = prediction.loc[prediction.pred == 11]\n",
    "clus12 = prediction.loc[prediction.pred == 12]\n",
    "clus13 = prediction.loc[prediction.pred == 13]\n",
    "clus14 = prediction.loc[prediction.pred == 14]\n",
    "clus15 = prediction.loc[prediction.pred == 15]\n",
    "clus16 = prediction.loc[prediction.pred == 16]\n",
    "clus17 = prediction.loc[prediction.pred == 17]\n",
    "clus18 = prediction.loc[prediction.pred == 18]\n",
    "clus19 = prediction.loc[prediction.pred == 19]\n",
    "a_list = [clus0.values, clus1.values,clus2.values,clus3.values,clus4.values,clus5.values,clus6.values,clus7.values,clus8.values\n",
    "         ,clus9.values,clus10.values,clus11.values,clus12.values,clus13.values,clus14.values,clus15.values,clus16.values\n",
    "         ,clus17.values,clus18.values,clus19.values]\n",
    "a_Cluster_20 = dunn(a_list)\n",
    "print(k_Cluster_20,a_Cluster_20)"
   ]
  },
  {
   "cell_type": "code",
   "execution_count": 275,
   "metadata": {},
   "outputs": [],
   "source": [
    "cluster_size = 21\n",
    "pca = PCA(n_components=5)\n",
    "pca.fit(encoder_df)\n",
    "pca_samples = pca.transform(encoder_df)\n",
    "ps = pd.DataFrame(pca_samples)\n",
    "kmeans = KMeans(n_clusters=cluster_size, random_state=42)\n",
    "cluster_kmeans = kmeans.fit_predict(ps)\n",
    "agglomerative_clustering = AgglomerativeClustering(n_clusters=cluster_size, linkage='ward').fit(ps)\n",
    "\n",
    "prediction = X.copy()\n",
    "\n",
    "prediction = pd.concat([ps,pd.DataFrame(cluster_kmeans, columns=['pred'])], axis = 1)\n",
    "prediction[\"pred\"] = prediction.pred.astype('category')\n",
    "prediction = prediction.dropna()\n",
    "clus0 = prediction.loc[prediction.pred == 0]\n",
    "clus1 = prediction.loc[prediction.pred == 1]\n",
    "clus2 = prediction.loc[prediction.pred == 2]\n",
    "clus3 = prediction.loc[prediction.pred == 3]  \n",
    "clus4 = prediction.loc[prediction.pred == 4]  \n",
    "clus5 = prediction.loc[prediction.pred == 5]\n",
    "clus6 = prediction.loc[prediction.pred == 6]\n",
    "clus7 = prediction.loc[prediction.pred == 7]\n",
    "clus8 = prediction.loc[prediction.pred == 8]\n",
    "clus9 = prediction.loc[prediction.pred == 9]\n",
    "clus10 = prediction.loc[prediction.pred == 10]\n",
    "clus11 = prediction.loc[prediction.pred == 11]\n",
    "clus12 = prediction.loc[prediction.pred == 12]\n",
    "clus13 = prediction.loc[prediction.pred == 13]\n",
    "clus14 = prediction.loc[prediction.pred == 14]\n",
    "clus15 = prediction.loc[prediction.pred == 15]\n",
    "clus16 = prediction.loc[prediction.pred == 16]\n",
    "clus17 = prediction.loc[prediction.pred == 17]\n",
    "clus18 = prediction.loc[prediction.pred == 18]\n",
    "clus19 = prediction.loc[prediction.pred == 19]\n",
    "clus20 = prediction.loc[prediction.pred == 20]\n",
    "k_list = [clus0.values, clus1.values,clus2.values,clus3.values,clus4.values,clus5.values,clus6.values,clus7.values,clus8.values\n",
    "         ,clus9.values,clus10.values,clus11.values,clus12.values,clus13.values,clus14.values,clus15.values,clus16.values\n",
    "         ,clus17.values,clus18.values,clus19.values,clus20.values]\n",
    "k_Cluster_21 = dunn(k_list)"
   ]
  },
  {
   "cell_type": "code",
   "execution_count": 276,
   "metadata": {},
   "outputs": [
    {
     "name": "stdout",
     "output_type": "stream",
     "text": [
      "0.7196169343276012 0.7490540525597752\n"
     ]
    }
   ],
   "source": [
    "prediction = X.copy()\n",
    "\n",
    "prediction = pd.concat([ps,pd.DataFrame(agglomerative_clustering.labels_, columns=['pred'])], axis = 1)\n",
    "prediction[\"pred\"] = prediction.pred.astype('category')\n",
    "prediction = prediction.dropna()\n",
    "clus0 = prediction.loc[prediction.pred == 0]\n",
    "clus1 = prediction.loc[prediction.pred == 1]\n",
    "clus2 = prediction.loc[prediction.pred == 2]\n",
    "clus3 = prediction.loc[prediction.pred == 3]  \n",
    "clus4 = prediction.loc[prediction.pred == 4]  \n",
    "clus5 = prediction.loc[prediction.pred == 5]\n",
    "clus6 = prediction.loc[prediction.pred == 6]\n",
    "clus7 = prediction.loc[prediction.pred == 7]\n",
    "clus8 = prediction.loc[prediction.pred == 8]\n",
    "clus9 = prediction.loc[prediction.pred == 9]\n",
    "clus10 = prediction.loc[prediction.pred == 10]\n",
    "clus11 = prediction.loc[prediction.pred == 11]\n",
    "clus11 = prediction.loc[prediction.pred == 11]\n",
    "clus12 = prediction.loc[prediction.pred == 12]\n",
    "clus13 = prediction.loc[prediction.pred == 13]\n",
    "clus14 = prediction.loc[prediction.pred == 14]\n",
    "clus15 = prediction.loc[prediction.pred == 15]\n",
    "clus16 = prediction.loc[prediction.pred == 16]\n",
    "clus17 = prediction.loc[prediction.pred == 17]\n",
    "clus18 = prediction.loc[prediction.pred == 18]\n",
    "clus19 = prediction.loc[prediction.pred == 19]\n",
    "clus20 = prediction.loc[prediction.pred == 20]\n",
    "a_list = [clus0.values, clus1.values,clus2.values,clus3.values,clus4.values,clus5.values,clus6.values,clus7.values,clus8.values\n",
    "         ,clus9.values,clus10.values,clus11.values,clus12.values,clus13.values,clus14.values,clus15.values,clus16.values\n",
    "         ,clus17.values,clus18.values,clus19.values,clus20.values]\n",
    "a_Cluster_21 = dunn(a_list)\n",
    "print(k_Cluster_21,a_Cluster_21)"
   ]
  },
  {
   "cell_type": "code",
   "execution_count": 277,
   "metadata": {},
   "outputs": [],
   "source": [
    "cluster_size = 22\n",
    "pca = PCA(n_components=5)\n",
    "pca.fit(encoder_df)\n",
    "pca_samples = pca.transform(encoder_df)\n",
    "ps = pd.DataFrame(pca_samples)\n",
    "kmeans = KMeans(n_clusters=cluster_size, random_state=42)\n",
    "cluster_kmeans = kmeans.fit_predict(ps)\n",
    "agglomerative_clustering = AgglomerativeClustering(n_clusters=cluster_size, linkage='ward').fit(ps)\n",
    "\n",
    "prediction = X.copy()\n",
    "\n",
    "prediction = pd.concat([ps,pd.DataFrame(cluster_kmeans, columns=['pred'])], axis = 1)\n",
    "prediction[\"pred\"] = prediction.pred.astype('category')\n",
    "prediction = prediction.dropna()\n",
    "clus0 = prediction.loc[prediction.pred == 0]\n",
    "clus1 = prediction.loc[prediction.pred == 1]\n",
    "clus2 = prediction.loc[prediction.pred == 2]\n",
    "clus3 = prediction.loc[prediction.pred == 3]  \n",
    "clus4 = prediction.loc[prediction.pred == 4]  \n",
    "clus5 = prediction.loc[prediction.pred == 5]\n",
    "clus6 = prediction.loc[prediction.pred == 6]\n",
    "clus7 = prediction.loc[prediction.pred == 7]\n",
    "clus8 = prediction.loc[prediction.pred == 8]\n",
    "clus9 = prediction.loc[prediction.pred == 9]\n",
    "clus10 = prediction.loc[prediction.pred == 10]\n",
    "clus11 = prediction.loc[prediction.pred == 11]\n",
    "clus12 = prediction.loc[prediction.pred == 12]\n",
    "clus13 = prediction.loc[prediction.pred == 13]\n",
    "clus14 = prediction.loc[prediction.pred == 14]\n",
    "clus15 = prediction.loc[prediction.pred == 15]\n",
    "clus16 = prediction.loc[prediction.pred == 16]\n",
    "clus17 = prediction.loc[prediction.pred == 17]\n",
    "clus18 = prediction.loc[prediction.pred == 18]\n",
    "clus19 = prediction.loc[prediction.pred == 19]\n",
    "clus20 = prediction.loc[prediction.pred == 20]\n",
    "clus21 = prediction.loc[prediction.pred == 21]\n",
    "k_list = [clus0.values, clus1.values,clus2.values,clus3.values,clus4.values,clus5.values,clus6.values,clus7.values,clus8.values\n",
    "         ,clus9.values,clus10.values,clus11.values,clus12.values,clus13.values,clus14.values,clus15.values,clus16.values\n",
    "         ,clus17.values,clus18.values,clus19.values,clus20.values,clus21.values]\n",
    "k_Cluster_22 = dunn(k_list)"
   ]
  },
  {
   "cell_type": "code",
   "execution_count": 278,
   "metadata": {},
   "outputs": [
    {
     "name": "stdout",
     "output_type": "stream",
     "text": [
      "0.6649987841005441 0.7490540525597752\n"
     ]
    }
   ],
   "source": [
    "prediction = X.copy()\n",
    "\n",
    "prediction = pd.concat([ps,pd.DataFrame(agglomerative_clustering.labels_, columns=['pred'])], axis = 1)\n",
    "prediction[\"pred\"] = prediction.pred.astype('category')\n",
    "prediction = prediction.dropna()\n",
    "clus0 = prediction.loc[prediction.pred == 0]\n",
    "clus1 = prediction.loc[prediction.pred == 1]\n",
    "clus2 = prediction.loc[prediction.pred == 2]\n",
    "clus3 = prediction.loc[prediction.pred == 3]  \n",
    "clus4 = prediction.loc[prediction.pred == 4]  \n",
    "clus5 = prediction.loc[prediction.pred == 5]\n",
    "clus6 = prediction.loc[prediction.pred == 6]\n",
    "clus7 = prediction.loc[prediction.pred == 7]\n",
    "clus8 = prediction.loc[prediction.pred == 8]\n",
    "clus9 = prediction.loc[prediction.pred == 9]\n",
    "clus10 = prediction.loc[prediction.pred == 10]\n",
    "clus11 = prediction.loc[prediction.pred == 11]\n",
    "clus11 = prediction.loc[prediction.pred == 11]\n",
    "clus12 = prediction.loc[prediction.pred == 12]\n",
    "clus13 = prediction.loc[prediction.pred == 13]\n",
    "clus14 = prediction.loc[prediction.pred == 14]\n",
    "clus15 = prediction.loc[prediction.pred == 15]\n",
    "clus16 = prediction.loc[prediction.pred == 16]\n",
    "clus17 = prediction.loc[prediction.pred == 17]\n",
    "clus18 = prediction.loc[prediction.pred == 18]\n",
    "clus19 = prediction.loc[prediction.pred == 19]\n",
    "clus20 = prediction.loc[prediction.pred == 20]\n",
    "clus21 = prediction.loc[prediction.pred == 21]\n",
    "a_list = [clus0.values, clus1.values,clus2.values,clus3.values,clus4.values,clus5.values,clus6.values,clus7.values,clus8.values\n",
    "         ,clus9.values,clus10.values,clus11.values,clus12.values,clus13.values,clus14.values,clus15.values,clus16.values\n",
    "         ,clus17.values,clus18.values,clus19.values,clus20.values,clus21.values]\n",
    "a_Cluster_22 = dunn(a_list)\n",
    "print(k_Cluster_22,a_Cluster_22)"
   ]
  },
  {
   "cell_type": "code",
   "execution_count": 279,
   "metadata": {},
   "outputs": [],
   "source": [
    "cluster_size = 23\n",
    "pca = PCA(n_components=5)\n",
    "pca.fit(encoder_df)\n",
    "pca_samples = pca.transform(encoder_df)\n",
    "ps = pd.DataFrame(pca_samples)\n",
    "kmeans = KMeans(n_clusters=cluster_size, random_state=42)\n",
    "cluster_kmeans = kmeans.fit_predict(ps)\n",
    "agglomerative_clustering = AgglomerativeClustering(n_clusters=cluster_size, linkage='ward').fit(ps)\n",
    "\n",
    "prediction = X.copy()\n",
    "\n",
    "prediction = pd.concat([ps,pd.DataFrame(cluster_kmeans, columns=['pred'])], axis = 1)\n",
    "prediction[\"pred\"] = prediction.pred.astype('category')\n",
    "prediction = prediction.dropna()\n",
    "clus0 = prediction.loc[prediction.pred == 0]\n",
    "clus1 = prediction.loc[prediction.pred == 1]\n",
    "clus2 = prediction.loc[prediction.pred == 2]\n",
    "clus3 = prediction.loc[prediction.pred == 3]  \n",
    "clus4 = prediction.loc[prediction.pred == 4]  \n",
    "clus5 = prediction.loc[prediction.pred == 5]\n",
    "clus6 = prediction.loc[prediction.pred == 6]\n",
    "clus7 = prediction.loc[prediction.pred == 7]\n",
    "clus8 = prediction.loc[prediction.pred == 8]\n",
    "clus9 = prediction.loc[prediction.pred == 9]\n",
    "clus10 = prediction.loc[prediction.pred == 10]\n",
    "clus11 = prediction.loc[prediction.pred == 11]\n",
    "clus12 = prediction.loc[prediction.pred == 12]\n",
    "clus13 = prediction.loc[prediction.pred == 13]\n",
    "clus14 = prediction.loc[prediction.pred == 14]\n",
    "clus15 = prediction.loc[prediction.pred == 15]\n",
    "clus16 = prediction.loc[prediction.pred == 16]\n",
    "clus17 = prediction.loc[prediction.pred == 17]\n",
    "clus18 = prediction.loc[prediction.pred == 18]\n",
    "clus19 = prediction.loc[prediction.pred == 19]\n",
    "clus20 = prediction.loc[prediction.pred == 20]\n",
    "clus21 = prediction.loc[prediction.pred == 21]\n",
    "clus22 = prediction.loc[prediction.pred == 22]\n",
    "k_list = [clus0.values, clus1.values,clus2.values,clus3.values,clus4.values,clus5.values,clus6.values,clus7.values,clus8.values\n",
    "         ,clus9.values,clus10.values,clus11.values,clus12.values,clus13.values,clus14.values,clus15.values,clus16.values\n",
    "         ,clus17.values,clus18.values,clus19.values,clus20.values,clus21.values,clus22.values]\n",
    "k_Cluster_23 = dunn(k_list)"
   ]
  },
  {
   "cell_type": "code",
   "execution_count": 280,
   "metadata": {},
   "outputs": [
    {
     "name": "stdout",
     "output_type": "stream",
     "text": [
      "0.7007294434187279 0.7751027040929267\n"
     ]
    }
   ],
   "source": [
    "prediction = X.copy()\n",
    "\n",
    "prediction = pd.concat([ps,pd.DataFrame(agglomerative_clustering.labels_, columns=['pred'])], axis = 1)\n",
    "prediction[\"pred\"] = prediction.pred.astype('category')\n",
    "prediction = prediction.dropna()\n",
    "clus0 = prediction.loc[prediction.pred == 0]\n",
    "clus1 = prediction.loc[prediction.pred == 1]\n",
    "clus2 = prediction.loc[prediction.pred == 2]\n",
    "clus3 = prediction.loc[prediction.pred == 3]  \n",
    "clus4 = prediction.loc[prediction.pred == 4]  \n",
    "clus5 = prediction.loc[prediction.pred == 5]\n",
    "clus6 = prediction.loc[prediction.pred == 6]\n",
    "clus7 = prediction.loc[prediction.pred == 7]\n",
    "clus8 = prediction.loc[prediction.pred == 8]\n",
    "clus9 = prediction.loc[prediction.pred == 9]\n",
    "clus10 = prediction.loc[prediction.pred == 10]\n",
    "clus11 = prediction.loc[prediction.pred == 11]\n",
    "clus11 = prediction.loc[prediction.pred == 11]\n",
    "clus12 = prediction.loc[prediction.pred == 12]\n",
    "clus13 = prediction.loc[prediction.pred == 13]\n",
    "clus14 = prediction.loc[prediction.pred == 14]\n",
    "clus15 = prediction.loc[prediction.pred == 15]\n",
    "clus16 = prediction.loc[prediction.pred == 16]\n",
    "clus17 = prediction.loc[prediction.pred == 17]\n",
    "clus18 = prediction.loc[prediction.pred == 18]\n",
    "clus19 = prediction.loc[prediction.pred == 19]\n",
    "clus20 = prediction.loc[prediction.pred == 20]\n",
    "clus21 = prediction.loc[prediction.pred == 21]\n",
    "clus22 = prediction.loc[prediction.pred == 22]\n",
    "a_list = [clus0.values, clus1.values,clus2.values,clus3.values,clus4.values,clus5.values,clus6.values,clus7.values,clus8.values\n",
    "         ,clus9.values,clus10.values,clus11.values,clus12.values,clus13.values,clus14.values,clus15.values,clus16.values\n",
    "         ,clus17.values,clus18.values,clus19.values,clus20.values,clus21.values,clus22.values]\n",
    "a_Cluster_23 = dunn(a_list)\n",
    "print(k_Cluster_23,a_Cluster_23)"
   ]
  },
  {
   "cell_type": "code",
   "execution_count": 281,
   "metadata": {},
   "outputs": [],
   "source": [
    "cluster_size = 24\n",
    "pca = PCA(n_components=5)\n",
    "pca.fit(encoder_df)\n",
    "pca_samples = pca.transform(encoder_df)\n",
    "ps = pd.DataFrame(pca_samples)\n",
    "kmeans = KMeans(n_clusters=cluster_size, random_state=42)\n",
    "cluster_kmeans = kmeans.fit_predict(ps)\n",
    "agglomerative_clustering = AgglomerativeClustering(n_clusters=cluster_size, linkage='ward').fit(ps)\n",
    "\n",
    "prediction = X.copy()\n",
    "\n",
    "prediction = pd.concat([ps,pd.DataFrame(cluster_kmeans, columns=['pred'])], axis = 1)\n",
    "prediction[\"pred\"] = prediction.pred.astype('category')\n",
    "prediction = prediction.dropna()\n",
    "clus0 = prediction.loc[prediction.pred == 0]\n",
    "clus1 = prediction.loc[prediction.pred == 1]\n",
    "clus2 = prediction.loc[prediction.pred == 2]\n",
    "clus3 = prediction.loc[prediction.pred == 3]  \n",
    "clus4 = prediction.loc[prediction.pred == 4]  \n",
    "clus5 = prediction.loc[prediction.pred == 5]\n",
    "clus6 = prediction.loc[prediction.pred == 6]\n",
    "clus7 = prediction.loc[prediction.pred == 7]\n",
    "clus8 = prediction.loc[prediction.pred == 8]\n",
    "clus9 = prediction.loc[prediction.pred == 9]\n",
    "clus10 = prediction.loc[prediction.pred == 10]\n",
    "clus11 = prediction.loc[prediction.pred == 11]\n",
    "clus12 = prediction.loc[prediction.pred == 12]\n",
    "clus13 = prediction.loc[prediction.pred == 13]\n",
    "clus14 = prediction.loc[prediction.pred == 14]\n",
    "clus15 = prediction.loc[prediction.pred == 15]\n",
    "clus16 = prediction.loc[prediction.pred == 16]\n",
    "clus17 = prediction.loc[prediction.pred == 17]\n",
    "clus18 = prediction.loc[prediction.pred == 18]\n",
    "clus19 = prediction.loc[prediction.pred == 19]\n",
    "clus20 = prediction.loc[prediction.pred == 20]\n",
    "clus21 = prediction.loc[prediction.pred == 21]\n",
    "clus22 = prediction.loc[prediction.pred == 22]\n",
    "clus23 = prediction.loc[prediction.pred == 23]\n",
    "k_list = [clus0.values, clus1.values,clus2.values,clus3.values,clus4.values,clus5.values,clus6.values,clus7.values,clus8.values\n",
    "         ,clus9.values,clus10.values,clus11.values,clus12.values,clus13.values,clus14.values,clus15.values,clus16.values\n",
    "         ,clus17.values,clus18.values,clus19.values,clus20.values,clus21.values,clus22.values,clus23.values]\n",
    "k_Cluster_24 = dunn(k_list)"
   ]
  },
  {
   "cell_type": "code",
   "execution_count": 282,
   "metadata": {},
   "outputs": [
    {
     "name": "stdout",
     "output_type": "stream",
     "text": [
      "0.679428019888222 0.6204100316997797\n"
     ]
    }
   ],
   "source": [
    "prediction = X.copy()\n",
    "\n",
    "prediction = pd.concat([ps,pd.DataFrame(agglomerative_clustering.labels_, columns=['pred'])], axis = 1)\n",
    "prediction[\"pred\"] = prediction.pred.astype('category')\n",
    "prediction = prediction.dropna()\n",
    "clus0 = prediction.loc[prediction.pred == 0]\n",
    "clus1 = prediction.loc[prediction.pred == 1]\n",
    "clus2 = prediction.loc[prediction.pred == 2]\n",
    "clus3 = prediction.loc[prediction.pred == 3]  \n",
    "clus4 = prediction.loc[prediction.pred == 4]  \n",
    "clus5 = prediction.loc[prediction.pred == 5]\n",
    "clus6 = prediction.loc[prediction.pred == 6]\n",
    "clus7 = prediction.loc[prediction.pred == 7]\n",
    "clus8 = prediction.loc[prediction.pred == 8]\n",
    "clus9 = prediction.loc[prediction.pred == 9]\n",
    "clus10 = prediction.loc[prediction.pred == 10]\n",
    "clus11 = prediction.loc[prediction.pred == 11]\n",
    "clus11 = prediction.loc[prediction.pred == 11]\n",
    "clus12 = prediction.loc[prediction.pred == 12]\n",
    "clus13 = prediction.loc[prediction.pred == 13]\n",
    "clus14 = prediction.loc[prediction.pred == 14]\n",
    "clus15 = prediction.loc[prediction.pred == 15]\n",
    "clus16 = prediction.loc[prediction.pred == 16]\n",
    "clus17 = prediction.loc[prediction.pred == 17]\n",
    "clus18 = prediction.loc[prediction.pred == 18]\n",
    "clus19 = prediction.loc[prediction.pred == 19]\n",
    "clus20 = prediction.loc[prediction.pred == 20]\n",
    "clus21 = prediction.loc[prediction.pred == 21]\n",
    "clus22 = prediction.loc[prediction.pred == 22]\n",
    "clus23 = prediction.loc[prediction.pred == 23]\n",
    "a_list = [clus0.values, clus1.values,clus2.values,clus3.values,clus4.values,clus5.values,clus6.values,clus7.values,clus8.values\n",
    "         ,clus9.values,clus10.values,clus11.values,clus12.values,clus13.values,clus14.values,clus15.values,clus16.values\n",
    "         ,clus17.values,clus18.values,clus19.values,clus20.values,clus21.values,clus22.values,clus23.values]\n",
    "a_Cluster_24 = dunn(a_list)\n",
    "print(k_Cluster_24,a_Cluster_24)"
   ]
  },
  {
   "cell_type": "code",
   "execution_count": 283,
   "metadata": {},
   "outputs": [],
   "source": [
    "cluster_size = 25\n",
    "pca = PCA(n_components=5)\n",
    "pca.fit(encoder_df)\n",
    "pca_samples = pca.transform(encoder_df)\n",
    "ps = pd.DataFrame(pca_samples)\n",
    "kmeans = KMeans(n_clusters=cluster_size, random_state=42)\n",
    "cluster_kmeans = kmeans.fit_predict(ps)\n",
    "agglomerative_clustering = AgglomerativeClustering(n_clusters=cluster_size, linkage='ward').fit(ps)\n",
    "\n",
    "prediction = X.copy()\n",
    "\n",
    "prediction = pd.concat([ps,pd.DataFrame(cluster_kmeans, columns=['pred'])], axis = 1)\n",
    "prediction[\"pred\"] = prediction.pred.astype('category')\n",
    "prediction = prediction.dropna()\n",
    "clus0 = prediction.loc[prediction.pred == 0]\n",
    "clus1 = prediction.loc[prediction.pred == 1]\n",
    "clus2 = prediction.loc[prediction.pred == 2]\n",
    "clus3 = prediction.loc[prediction.pred == 3]  \n",
    "clus4 = prediction.loc[prediction.pred == 4]  \n",
    "clus5 = prediction.loc[prediction.pred == 5]\n",
    "clus6 = prediction.loc[prediction.pred == 6]\n",
    "clus7 = prediction.loc[prediction.pred == 7]\n",
    "clus8 = prediction.loc[prediction.pred == 8]\n",
    "clus9 = prediction.loc[prediction.pred == 9]\n",
    "clus10 = prediction.loc[prediction.pred == 10]\n",
    "clus11 = prediction.loc[prediction.pred == 11]\n",
    "clus12 = prediction.loc[prediction.pred == 12]\n",
    "clus13 = prediction.loc[prediction.pred == 13]\n",
    "clus14 = prediction.loc[prediction.pred == 14]\n",
    "clus15 = prediction.loc[prediction.pred == 15]\n",
    "clus16 = prediction.loc[prediction.pred == 16]\n",
    "clus17 = prediction.loc[prediction.pred == 17]\n",
    "clus18 = prediction.loc[prediction.pred == 18]\n",
    "clus19 = prediction.loc[prediction.pred == 19]\n",
    "clus20 = prediction.loc[prediction.pred == 20]\n",
    "clus21 = prediction.loc[prediction.pred == 21]\n",
    "clus22 = prediction.loc[prediction.pred == 22]\n",
    "clus23 = prediction.loc[prediction.pred == 23]\n",
    "clus24 = prediction.loc[prediction.pred == 24]\n",
    "k_list = [clus0.values, clus1.values,clus2.values,clus3.values,clus4.values,clus5.values,clus6.values,clus7.values,clus8.values\n",
    "         ,clus9.values,clus10.values,clus11.values,clus12.values,clus13.values,clus14.values,clus15.values,clus16.values\n",
    "         ,clus17.values,clus18.values,clus19.values,clus20.values,clus21.values,clus22.values,clus23.values,clus24.values]\n",
    "k_Cluster_25 = dunn(k_list)"
   ]
  },
  {
   "cell_type": "code",
   "execution_count": 284,
   "metadata": {},
   "outputs": [
    {
     "name": "stdout",
     "output_type": "stream",
     "text": [
      "0.8660765439195042 0.6574059276635865\n"
     ]
    }
   ],
   "source": [
    "prediction = X.copy()\n",
    "\n",
    "prediction = pd.concat([ps,pd.DataFrame(agglomerative_clustering.labels_, columns=['pred'])], axis = 1)\n",
    "prediction[\"pred\"] = prediction.pred.astype('category')\n",
    "prediction = prediction.dropna()\n",
    "clus0 = prediction.loc[prediction.pred == 0]\n",
    "clus1 = prediction.loc[prediction.pred == 1]\n",
    "clus2 = prediction.loc[prediction.pred == 2]\n",
    "clus3 = prediction.loc[prediction.pred == 3]  \n",
    "clus4 = prediction.loc[prediction.pred == 4]  \n",
    "clus5 = prediction.loc[prediction.pred == 5]\n",
    "clus6 = prediction.loc[prediction.pred == 6]\n",
    "clus7 = prediction.loc[prediction.pred == 7]\n",
    "clus8 = prediction.loc[prediction.pred == 8]\n",
    "clus9 = prediction.loc[prediction.pred == 9]\n",
    "clus10 = prediction.loc[prediction.pred == 10]\n",
    "clus11 = prediction.loc[prediction.pred == 11]\n",
    "clus11 = prediction.loc[prediction.pred == 11]\n",
    "clus12 = prediction.loc[prediction.pred == 12]\n",
    "clus13 = prediction.loc[prediction.pred == 13]\n",
    "clus14 = prediction.loc[prediction.pred == 14]\n",
    "clus15 = prediction.loc[prediction.pred == 15]\n",
    "clus16 = prediction.loc[prediction.pred == 16]\n",
    "clus17 = prediction.loc[prediction.pred == 17]\n",
    "clus18 = prediction.loc[prediction.pred == 18]\n",
    "clus19 = prediction.loc[prediction.pred == 19]\n",
    "clus20 = prediction.loc[prediction.pred == 20]\n",
    "clus21 = prediction.loc[prediction.pred == 21]\n",
    "clus22 = prediction.loc[prediction.pred == 22]\n",
    "clus23 = prediction.loc[prediction.pred == 23]\n",
    "clus24 = prediction.loc[prediction.pred == 24]\n",
    "a_list = [clus0.values, clus1.values,clus2.values,clus3.values,clus4.values,clus5.values,clus6.values,clus7.values,clus8.values\n",
    "         ,clus9.values,clus10.values,clus11.values,clus12.values,clus13.values,clus14.values,clus15.values,clus16.values\n",
    "         ,clus17.values,clus18.values,clus19.values,clus20.values,clus21.values,clus22.values,clus23.values,clus24.values]\n",
    "a_Cluster_25 = dunn(a_list)\n",
    "print(k_Cluster_25,a_Cluster_25)"
   ]
  },
  {
   "cell_type": "code",
   "execution_count": 285,
   "metadata": {},
   "outputs": [],
   "source": [
    "Cluster = {'K_Means':[k_Cluster_2,k_Cluster_3,k_Cluster_4,k_Cluster_5,k_Cluster_6,k_Cluster_7,k_Cluster_8,k_Cluster_9,k_Cluster_10\n",
    "                      ,k_Cluster_11,k_Cluster_12,k_Cluster_13,k_Cluster_14,k_Cluster_15,k_Cluster_16,k_Cluster_17,k_Cluster_18\n",
    "                      ,k_Cluster_19,k_Cluster_20,k_Cluster_21,k_Cluster_22,k_Cluster_23,k_Cluster_24,k_Cluster_25],\n",
    "           'Agglomerative':[a_Cluster_2,a_Cluster_3,a_Cluster_4,a_Cluster_5,a_Cluster_6,a_Cluster_7,a_Cluster_8,a_Cluster_9,a_Cluster_10\n",
    "                      ,a_Cluster_11,a_Cluster_12,a_Cluster_13,a_Cluster_14,a_Cluster_15,a_Cluster_16,a_Cluster_17,a_Cluster_18\n",
    "                      ,a_Cluster_19,a_Cluster_20,a_Cluster_21,a_Cluster_22,a_Cluster_23,a_Cluster_24,a_Cluster_25]}\n",
    "\n",
    "\n",
    "df_New = pd.DataFrame(Cluster, index=['Cluster 2','Cluster 3','Cluster 4','Cluster 5','Cluster 6','Cluster 7','Cluster 8','Cluster 9',\n",
    "                                     'Cluster 10','Cluster 11','Cluster 12','Cluster 13','Cluster 14','Cluster 15','Cluster 16','Cluster 17',\n",
    "                                     'Cluster 18','Cluster 19','Cluster 20','Cluster 21','Cluster 22','Cluster 23','Cluster 24','Cluster 25'])"
   ]
  },
  {
   "cell_type": "code",
   "execution_count": 286,
   "metadata": {},
   "outputs": [
    {
     "data": {
      "text/html": [
       "<div>\n",
       "<style scoped>\n",
       "    .dataframe tbody tr th:only-of-type {\n",
       "        vertical-align: middle;\n",
       "    }\n",
       "\n",
       "    .dataframe tbody tr th {\n",
       "        vertical-align: top;\n",
       "    }\n",
       "\n",
       "    .dataframe thead th {\n",
       "        text-align: right;\n",
       "    }\n",
       "</style>\n",
       "<table border=\"1\" class=\"dataframe\">\n",
       "  <thead>\n",
       "    <tr style=\"text-align: right;\">\n",
       "      <th></th>\n",
       "      <th>K_Means</th>\n",
       "      <th>Agglomerative</th>\n",
       "    </tr>\n",
       "  </thead>\n",
       "  <tbody>\n",
       "    <tr>\n",
       "      <th>Cluster 2</th>\n",
       "      <td>0.258709</td>\n",
       "      <td>0.296653</td>\n",
       "    </tr>\n",
       "    <tr>\n",
       "      <th>Cluster 3</th>\n",
       "      <td>0.268130</td>\n",
       "      <td>0.314956</td>\n",
       "    </tr>\n",
       "    <tr>\n",
       "      <th>Cluster 4</th>\n",
       "      <td>0.317950</td>\n",
       "      <td>0.339115</td>\n",
       "    </tr>\n",
       "    <tr>\n",
       "      <th>Cluster 5</th>\n",
       "      <td>0.318704</td>\n",
       "      <td>0.349468</td>\n",
       "    </tr>\n",
       "    <tr>\n",
       "      <th>Cluster 6</th>\n",
       "      <td>0.366663</td>\n",
       "      <td>0.374828</td>\n",
       "    </tr>\n",
       "    <tr>\n",
       "      <th>Cluster 7</th>\n",
       "      <td>0.346760</td>\n",
       "      <td>0.374828</td>\n",
       "    </tr>\n",
       "    <tr>\n",
       "      <th>Cluster 8</th>\n",
       "      <td>0.411877</td>\n",
       "      <td>0.421335</td>\n",
       "    </tr>\n",
       "    <tr>\n",
       "      <th>Cluster 9</th>\n",
       "      <td>0.384811</td>\n",
       "      <td>0.367535</td>\n",
       "    </tr>\n",
       "    <tr>\n",
       "      <th>Cluster 10</th>\n",
       "      <td>0.426289</td>\n",
       "      <td>0.381521</td>\n",
       "    </tr>\n",
       "    <tr>\n",
       "      <th>Cluster 11</th>\n",
       "      <td>0.550741</td>\n",
       "      <td>0.588347</td>\n",
       "    </tr>\n",
       "    <tr>\n",
       "      <th>Cluster 12</th>\n",
       "      <td>0.467031</td>\n",
       "      <td>0.637324</td>\n",
       "    </tr>\n",
       "    <tr>\n",
       "      <th>Cluster 13</th>\n",
       "      <td>0.567688</td>\n",
       "      <td>0.508649</td>\n",
       "    </tr>\n",
       "    <tr>\n",
       "      <th>Cluster 14</th>\n",
       "      <td>0.401362</td>\n",
       "      <td>0.508649</td>\n",
       "    </tr>\n",
       "    <tr>\n",
       "      <th>Cluster 15</th>\n",
       "      <td>0.451736</td>\n",
       "      <td>0.572800</td>\n",
       "    </tr>\n",
       "    <tr>\n",
       "      <th>Cluster 16</th>\n",
       "      <td>0.575866</td>\n",
       "      <td>0.511878</td>\n",
       "    </tr>\n",
       "    <tr>\n",
       "      <th>Cluster 17</th>\n",
       "      <td>0.615901</td>\n",
       "      <td>0.574204</td>\n",
       "    </tr>\n",
       "    <tr>\n",
       "      <th>Cluster 18</th>\n",
       "      <td>0.425978</td>\n",
       "      <td>0.874955</td>\n",
       "    </tr>\n",
       "    <tr>\n",
       "      <th>Cluster 19</th>\n",
       "      <td>0.611220</td>\n",
       "      <td>0.707481</td>\n",
       "    </tr>\n",
       "    <tr>\n",
       "      <th>Cluster 20</th>\n",
       "      <td>0.652715</td>\n",
       "      <td>0.707481</td>\n",
       "    </tr>\n",
       "    <tr>\n",
       "      <th>Cluster 21</th>\n",
       "      <td>0.719617</td>\n",
       "      <td>0.749054</td>\n",
       "    </tr>\n",
       "    <tr>\n",
       "      <th>Cluster 22</th>\n",
       "      <td>0.664999</td>\n",
       "      <td>0.749054</td>\n",
       "    </tr>\n",
       "    <tr>\n",
       "      <th>Cluster 23</th>\n",
       "      <td>0.700729</td>\n",
       "      <td>0.775103</td>\n",
       "    </tr>\n",
       "    <tr>\n",
       "      <th>Cluster 24</th>\n",
       "      <td>0.679428</td>\n",
       "      <td>0.620410</td>\n",
       "    </tr>\n",
       "    <tr>\n",
       "      <th>Cluster 25</th>\n",
       "      <td>0.866077</td>\n",
       "      <td>0.657406</td>\n",
       "    </tr>\n",
       "  </tbody>\n",
       "</table>\n",
       "</div>"
      ],
      "text/plain": [
       "             K_Means  Agglomerative\n",
       "Cluster 2   0.258709       0.296653\n",
       "Cluster 3   0.268130       0.314956\n",
       "Cluster 4   0.317950       0.339115\n",
       "Cluster 5   0.318704       0.349468\n",
       "Cluster 6   0.366663       0.374828\n",
       "Cluster 7   0.346760       0.374828\n",
       "Cluster 8   0.411877       0.421335\n",
       "Cluster 9   0.384811       0.367535\n",
       "Cluster 10  0.426289       0.381521\n",
       "Cluster 11  0.550741       0.588347\n",
       "Cluster 12  0.467031       0.637324\n",
       "Cluster 13  0.567688       0.508649\n",
       "Cluster 14  0.401362       0.508649\n",
       "Cluster 15  0.451736       0.572800\n",
       "Cluster 16  0.575866       0.511878\n",
       "Cluster 17  0.615901       0.574204\n",
       "Cluster 18  0.425978       0.874955\n",
       "Cluster 19  0.611220       0.707481\n",
       "Cluster 20  0.652715       0.707481\n",
       "Cluster 21  0.719617       0.749054\n",
       "Cluster 22  0.664999       0.749054\n",
       "Cluster 23  0.700729       0.775103\n",
       "Cluster 24  0.679428       0.620410\n",
       "Cluster 25  0.866077       0.657406"
      ]
     },
     "execution_count": 286,
     "metadata": {},
     "output_type": "execute_result"
    }
   ],
   "source": [
    "df_New"
   ]
  },
  {
   "cell_type": "code",
   "execution_count": 287,
   "metadata": {},
   "outputs": [],
   "source": [
    "#df.to_excel('cluster_output_new.xlsx', sheet_name='Clusters')"
   ]
  },
  {
   "cell_type": "code",
   "execution_count": 294,
   "metadata": {},
   "outputs": [
    {
     "data": {
      "text/plain": [
       "<AxesSubplot:>"
      ]
     },
     "execution_count": 294,
     "metadata": {},
     "output_type": "execute_result"
    },
    {
     "data": {
      "image/png": "[encoded data removed]",
      "text/plain": [
       "<Figure size 720x360 with 1 Axes>"
      ]
     },
     "metadata": {},
     "output_type": "display_data"
    }
   ],
   "source": [
    "import matplotlib.pyplot as plt\n",
    "\n",
    "df_New.plot.bar(figsize=(10,5))"
   ]
  }
 ],
 "metadata": {
  "kernelspec": {
   "display_name": "Python 3 (ipykernel)",
   "language": "python",
   "name": "python3"
  },
  "language_info": {
   "codemirror_mode": {
    "name": "ipython",
    "version": 3
   },
   "file_extension": ".py",
   "mimetype": "text/x-python",
   "name": "python",
   "nbconvert_exporter": "python",
   "pygments_lexer": "ipython3",
   "version": "3.9.12"
  },
  "vscode": {
   "interpreter": {
    "hash": "91b3dfef17e0185ad7b38048eaa926c5ced29aa1c134eb882db87343d84eca83"
   }
  }
 },
 "nbformat": 4,
 "nbformat_minor": 2
}
